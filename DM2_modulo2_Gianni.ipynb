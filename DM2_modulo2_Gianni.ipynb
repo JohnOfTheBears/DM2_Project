{
 "cells": [
  {
   "cell_type": "code",
   "execution_count": 294,
   "id": "1e8d9200-9444-4c04-850a-247ee0f1f19d",
   "metadata": {},
   "outputs": [],
   "source": [
    "%matplotlib inline\n",
    "\n",
    "import numpy as np\n",
    "import pandas as pd\n",
    "import matplotlib.pyplot as plt\n",
    "\n",
    "from collections import defaultdict\n",
    "\n",
    "from sklearn.metrics import accuracy_score, f1_score, classification_report\n",
    "from sklearn.metrics import roc_curve, auc, roc_auc_score\n",
    "\n",
    "from sklearn.feature_selection import SelectKBest\n",
    "\n",
    "from sklearn.metrics import r2_score, mean_squared_error, mean_absolute_error"
   ]
  },
  {
   "cell_type": "code",
   "execution_count": 295,
   "id": "a4eacd64-c47b-4baa-bcdc-87a22ac62739",
   "metadata": {},
   "outputs": [],
   "source": [
    "train = pd.read_csv('C:/Users/Admin/Desktop/Magistrale/Primo anno/Secondo semestre/DM2/UCI HAR Dataset/csv_files/train.csv')\n",
    "test = pd.read_csv('C:/Users/Admin/Desktop/Magistrale/Primo anno/Secondo semestre/DM2/UCI HAR Dataset/csv_files/test.csv')"
   ]
  },
  {
   "cell_type": "code",
   "execution_count": 296,
   "id": "715deb90-8c28-405a-b75f-1b8e9a906580",
   "metadata": {},
   "outputs": [],
   "source": [
    "attributes = [col for col in train.columns if col != 'Activity']\n",
    "attributes.pop()\n",
    "X_train = train[attributes].values\n",
    "X_test = test[attributes].values\n",
    "y_train = train['ActivityName']\n",
    "y_test = test['ActivityName']"
   ]
  },
  {
   "cell_type": "code",
   "execution_count": 298,
   "id": "b5d55f36-70bf-4feb-a38a-28e02f1fa95f",
   "metadata": {},
   "outputs": [
    {
     "data": {
      "text/plain": [
       "7352"
      ]
     },
     "execution_count": 298,
     "metadata": {},
     "output_type": "execute_result"
    }
   ],
   "source": [
    "len(X_train)"
   ]
  },
  {
   "cell_type": "markdown",
   "id": "a8155cf5-2a7d-47b7-8f21-7a2471ab25eb",
   "metadata": {},
   "source": [
    "# Naive Bayes"
   ]
  },
  {
   "cell_type": "code",
   "execution_count": 230,
   "id": "e9867147-449e-4965-9ee8-6a1691f479a7",
   "metadata": {},
   "outputs": [],
   "source": [
    "from sklearn.naive_bayes import GaussianNB, CategoricalNB"
   ]
  },
  {
   "cell_type": "code",
   "execution_count": 231,
   "id": "6513cf0f-73b1-442a-bb1a-7601a62bac46",
   "metadata": {},
   "outputs": [
    {
     "data": {
      "text/plain": [
       "GaussianNB()"
      ]
     },
     "execution_count": 231,
     "metadata": {},
     "output_type": "execute_result"
    }
   ],
   "source": [
    "clf = GaussianNB()\n",
    "clf.fit(X_train, y_train)"
   ]
  },
  {
   "cell_type": "code",
   "execution_count": 232,
   "id": "a771fa4b-7f75-4b2f-9f09-13b798fb799a",
   "metadata": {},
   "outputs": [],
   "source": [
    "y_pred = clf.predict(X_test)"
   ]
  },
  {
   "cell_type": "code",
   "execution_count": 233,
   "id": "5cbc7464-dcbf-4003-8d84-fb4243b1b719",
   "metadata": {},
   "outputs": [
    {
     "name": "stdout",
     "output_type": "stream",
     "text": [
      "Accuracy 0.7702748557855447\n",
      "F1-score [0.74514286 0.64668483 0.82931189 0.83116883 0.70410959 0.84456929]\n",
      "                    precision    recall  f1-score   support\n",
      "\n",
      "            LAYING       0.96      0.61      0.75       537\n",
      "           SITTING       0.58      0.73      0.65       491\n",
      "          STANDING       0.79      0.87      0.83       532\n",
      "           WALKING       0.82      0.84      0.83       496\n",
      "WALKING_DOWNSTAIRS       0.83      0.61      0.70       420\n",
      "  WALKING_UPSTAIRS       0.76      0.96      0.84       471\n",
      "\n",
      "          accuracy                           0.77      2947\n",
      "         macro avg       0.79      0.77      0.77      2947\n",
      "      weighted avg       0.79      0.77      0.77      2947\n",
      "\n"
     ]
    }
   ],
   "source": [
    "print('Accuracy %s' % accuracy_score(y_test, y_pred))\n",
    "print('F1-score %s' % f1_score(y_test, y_pred, average=None))\n",
    "print(classification_report(y_test, y_pred))"
   ]
  },
  {
   "cell_type": "code",
   "execution_count": 234,
   "id": "7835d879-fde9-485c-9c4a-010103e7310d",
   "metadata": {},
   "outputs": [
    {
     "data": {
      "text/plain": [
       "(7352, 185)"
      ]
     },
     "execution_count": 234,
     "metadata": {},
     "output_type": "execute_result"
    }
   ],
   "source": [
    "sel = SelectKBest(k=185)\n",
    "X_train_sel = sel.fit_transform(X_train, y_train)\n",
    "\n",
    "X_train_sel.shape"
   ]
  },
  {
   "cell_type": "code",
   "execution_count": 235,
   "id": "68c07943-6b61-47b5-a5ce-b4c64a43976b",
   "metadata": {},
   "outputs": [
    {
     "name": "stdout",
     "output_type": "stream",
     "text": [
      "Accuracy 0.8187987784187309\n",
      "F1-score [0.99533147 0.72590738 0.81921824 0.79522863 0.70833333 0.81213307]\n",
      "                    precision    recall  f1-score   support\n",
      "\n",
      "            LAYING       1.00      0.99      1.00       537\n",
      "           SITTING       0.94      0.59      0.73       491\n",
      "          STANDING       0.72      0.95      0.82       532\n",
      "           WALKING       0.78      0.81      0.80       496\n",
      "WALKING_DOWNSTAIRS       0.78      0.65      0.71       420\n",
      "  WALKING_UPSTAIRS       0.75      0.88      0.81       471\n",
      "\n",
      "          accuracy                           0.82      2947\n",
      "         macro avg       0.83      0.81      0.81      2947\n",
      "      weighted avg       0.83      0.82      0.81      2947\n",
      "\n"
     ]
    }
   ],
   "source": [
    "X_test_sel = sel.transform(X_test)\n",
    "\n",
    "clf = GaussianNB()\n",
    "clf.fit(X_train_sel, y_train)\n",
    "\n",
    "y_pred = clf.predict(X_test_sel)\n",
    "\n",
    "print('Accuracy %s' % accuracy_score(y_test, y_pred))\n",
    "print('F1-score %s' % f1_score(y_test, y_pred, average=None))\n",
    "print(classification_report(y_test, y_pred))"
   ]
  },
  {
   "cell_type": "code",
   "execution_count": 236,
   "id": "e6acd37d-159b-4ac0-9d47-fbde8bef8a00",
   "metadata": {},
   "outputs": [],
   "source": [
    "X_train_cat = list()\n",
    "for i in range(len(X_train)):\n",
    "    X_train_cat.append(pd.qcut(X_train[i], q=[0.0, 0.25, 0.5, 0.75, 1.0], labels=False))\n",
    "X_train_cat = np.array(X_train_cat)"
   ]
  },
  {
   "cell_type": "code",
   "execution_count": 237,
   "id": "193c8467-b732-4e9c-b8b7-51ed647dc64c",
   "metadata": {},
   "outputs": [],
   "source": [
    "X_test_cat = list()\n",
    "for i in range(len(X_test)):\n",
    "    X_test_cat.append(pd.qcut(X_test[i], q=[0.0, 0.25, 0.5, 0.75, 1.0], labels=False))\n",
    "X_test_cat = np.array(X_test_cat)"
   ]
  },
  {
   "cell_type": "code",
   "execution_count": 238,
   "id": "ed264e7b-59f7-406f-8ef3-64e02454e5be",
   "metadata": {},
   "outputs": [
    {
     "data": {
      "text/plain": [
       "CategoricalNB()"
      ]
     },
     "execution_count": 238,
     "metadata": {},
     "output_type": "execute_result"
    }
   ],
   "source": [
    "clf = CategoricalNB()\n",
    "clf.fit(X_train_cat, y_train)"
   ]
  },
  {
   "cell_type": "code",
   "execution_count": 239,
   "id": "b1c50dac-d599-4f56-a145-29416cd7cc2c",
   "metadata": {},
   "outputs": [
    {
     "name": "stdout",
     "output_type": "stream",
     "text": [
      "Accuracy 0.8673227010519172\n",
      "F1-score [0.97860465 0.78794403 0.83482944 0.87702574 0.80156658 0.89906348]\n",
      "                    precision    recall  f1-score   support\n",
      "\n",
      "            LAYING       0.98      0.98      0.98       537\n",
      "           SITTING       0.84      0.75      0.79       491\n",
      "          STANDING       0.80      0.87      0.83       532\n",
      "           WALKING       0.83      0.93      0.88       496\n",
      "WALKING_DOWNSTAIRS       0.89      0.73      0.80       420\n",
      "  WALKING_UPSTAIRS       0.88      0.92      0.90       471\n",
      "\n",
      "          accuracy                           0.87      2947\n",
      "         macro avg       0.87      0.86      0.86      2947\n",
      "      weighted avg       0.87      0.87      0.87      2947\n",
      "\n"
     ]
    }
   ],
   "source": [
    "y_pred = clf.predict(X_test_cat)\n",
    "print('Accuracy %s' % accuracy_score(y_test, y_pred))\n",
    "print('F1-score %s' % f1_score(y_test, y_pred, average=None))\n",
    "print(classification_report(y_test, y_pred))"
   ]
  },
  {
   "cell_type": "code",
   "execution_count": 240,
   "id": "036e9380-dcda-4f42-9dfe-d4e0144e9891",
   "metadata": {},
   "outputs": [
    {
     "name": "stderr",
     "output_type": "stream",
     "text": [
      "C:\\Users\\Admin\\anaconda3\\lib\\site-packages\\sklearn\\feature_selection\\_univariate_selection.py:114: UserWarning: Features [561] are constant.\n",
      "  warnings.warn(\"Features %s are constant.\" % constant_features_idx,\n",
      "C:\\Users\\Admin\\anaconda3\\lib\\site-packages\\sklearn\\feature_selection\\_univariate_selection.py:116: RuntimeWarning: invalid value encountered in true_divide\n",
      "  f = msb / msw\n"
     ]
    },
    {
     "data": {
      "text/plain": [
       "(7352, 185)"
      ]
     },
     "execution_count": 240,
     "metadata": {},
     "output_type": "execute_result"
    }
   ],
   "source": [
    "sel = SelectKBest(k=185)\n",
    "X_train_sel = sel.fit_transform(X_train_cat, y_train)\n",
    "\n",
    "X_train_sel.shape"
   ]
  },
  {
   "cell_type": "code",
   "execution_count": 241,
   "id": "3a059388-aebc-4efe-a548-967aac4178cd",
   "metadata": {},
   "outputs": [
    {
     "name": "stdout",
     "output_type": "stream",
     "text": [
      "Accuracy 0.8391584662368511\n",
      "F1-score [0.98886827 0.6937355  0.7860781  0.85768143 0.8030888  0.87633262]\n",
      "                    precision    recall  f1-score   support\n",
      "\n",
      "            LAYING       0.99      0.99      0.99       537\n",
      "           SITTING       0.81      0.61      0.69       491\n",
      "          STANDING       0.72      0.87      0.79       532\n",
      "           WALKING       0.81      0.92      0.86       496\n",
      "WALKING_DOWNSTAIRS       0.87      0.74      0.80       420\n",
      "  WALKING_UPSTAIRS       0.88      0.87      0.88       471\n",
      "\n",
      "          accuracy                           0.84      2947\n",
      "         macro avg       0.84      0.83      0.83      2947\n",
      "      weighted avg       0.84      0.84      0.84      2947\n",
      "\n"
     ]
    }
   ],
   "source": [
    "X_test_sel = sel.transform(X_test_cat)\n",
    "\n",
    "clf = CategoricalNB()\n",
    "clf.fit(X_train_sel, y_train)\n",
    "\n",
    "y_pred = clf.predict(X_test_sel)\n",
    "\n",
    "print('Accuracy %s' % accuracy_score(y_test, y_pred))\n",
    "print('F1-score %s' % f1_score(y_test, y_pred, average=None))\n",
    "print(classification_report(y_test, y_pred))"
   ]
  },
  {
   "cell_type": "markdown",
   "id": "f4d35dbd-7df4-46d0-b3eb-fc930fe5f8cd",
   "metadata": {},
   "source": [
    "# Linear Regression"
   ]
  },
  {
   "cell_type": "code",
   "execution_count": 242,
   "id": "cfbd69f6-8db5-410b-9e36-6fb575d099d9",
   "metadata": {},
   "outputs": [],
   "source": [
    "from sklearn.linear_model import LinearRegression, Ridge, Lasso"
   ]
  },
  {
   "cell_type": "code",
   "execution_count": 243,
   "id": "fe7201dd-5625-4b50-b311-a700541c7d10",
   "metadata": {},
   "outputs": [
    {
     "data": {
      "text/plain": [
       "0       5\n",
       "1       5\n",
       "2       5\n",
       "3       5\n",
       "4       5\n",
       "       ..\n",
       "7347    2\n",
       "7348    2\n",
       "7349    2\n",
       "7350    2\n",
       "7351    2\n",
       "Name: ActivityName, Length: 7352, dtype: int64"
      ]
     },
     "execution_count": 243,
     "metadata": {},
     "output_type": "execute_result"
    }
   ],
   "source": [
    "new_y_test = y_test.replace({\"WALKING\": 1, \"WALKING_UPSTAIRS\": 2, \"WALKING_DOWNSTAIRS\": 3, \"LAYING\": 6, \"SITTING\": 4, \"STANDING\": 5})\n",
    "new_y_train = y_train.replace({\"WALKING\": 1, \"WALKING_UPSTAIRS\": 2, \"WALKING_DOWNSTAIRS\": 3, \"LAYING\": 6, \"SITTING\": 4, \"STANDING\": 5})\n",
    "new_y_train"
   ]
  },
  {
   "cell_type": "code",
   "execution_count": 244,
   "id": "ffd72057-fd65-448f-b813-47514f533d5a",
   "metadata": {},
   "outputs": [
    {
     "data": {
      "text/plain": [
       "LinearRegression()"
      ]
     },
     "execution_count": 244,
     "metadata": {},
     "output_type": "execute_result"
    }
   ],
   "source": [
    "reg = LinearRegression()\n",
    "reg.fit(X_train, new_y_train)"
   ]
  },
  {
   "cell_type": "code",
   "execution_count": 245,
   "id": "c0a7a302-6570-44d4-b0bd-be844c7e25ae",
   "metadata": {},
   "outputs": [
    {
     "name": "stdout",
     "output_type": "stream",
     "text": [
      "Coefficients: \n",
      " [-3.26234167e-01  8.87281104e-02 -7.09059003e-02  3.12445789e+00\n",
      "  8.44237158e-01  1.17663073e-01  6.51451341e-01  8.69457302e-03\n",
      "  4.81760055e-01  1.52458093e-01  1.56415352e-01  1.52412739e-01\n",
      "  3.50877765e-01  4.28052908e-02  1.08155096e-01  3.21677536e+00\n",
      " -6.30577219e+05 -4.56495086e+05 -2.21225885e+05 -1.90035158e-01\n",
      "  3.39269231e-01 -1.85462106e-01  8.13955478e-02 -1.20415673e-01\n",
      "  5.36988260e-02  7.14976439e-01  2.93408325e-01 -4.93870101e-01\n",
      " -2.47364862e-01 -2.47248931e-01 -3.55895433e-01 -1.61826888e-01\n",
      " -1.21910005e-01  7.00328485e-01  4.95644705e-01 -2.65790153e-01\n",
      " -1.69485887e-01  3.56475704e-02  8.93920277e-02 -7.05563969e-02\n",
      " -1.20239576e+00  1.66440504e-02 -1.60723878e+00 -3.91490190e+00\n",
      "  6.01117656e+00  6.33667783e+00 -2.49623121e-01 -5.96644613e+00\n",
      " -4.48113347e+00  3.03919799e+00 -4.21193842e-02 -3.76122568e+00\n",
      " -3.30818037e+00  3.40581813e-01  4.30058024e+00 -1.11706639e-01\n",
      "  7.99190339e-01  2.39081478e+00  1.57649748e+00  1.40902270e+00\n",
      "  7.64912974e-01  2.02380771e-01  8.97956110e-02 -2.18654502e-02\n",
      "  5.00570503e-02 -8.41160714e+02 -2.47709115e+03 -2.43279526e+03\n",
      " -7.96800278e+02  2.96794923e+02  8.08902348e+02  7.81814854e+02\n",
      "  2.58377204e+02  7.60891537e+01  2.37864777e+02  2.46868034e+02\n",
      "  8.52315543e+01  2.03754013e-02  2.01710400e-02 -9.21008334e-03\n",
      "  2.34471781e-02  2.45217151e-03  4.28744379e-02  1.31694400e+01\n",
      "  9.25521197e+00  7.92765566e+00  1.66171083e+00  1.39401513e+00\n",
      "  2.91480768e+00  2.02216321e-01  8.07464465e-02  1.12325101e-01\n",
      "  9.17937767e-02  2.64547297e-01 -1.02297259e-02 -4.77697225e+00\n",
      "  3.31274937e+05  1.62274328e+05  2.72147659e+05  1.33107041e-01\n",
      " -2.75149833e-01 -1.43291268e-01 -3.61037842e-01 -1.39994821e-01\n",
      " -5.95014417e-01 -2.32146369e-01 -2.74809482e-01  1.36269230e-01\n",
      "  1.43997691e-01  6.59659212e-03  6.87956750e-02  1.64569665e-02\n",
      "  1.06372449e-01 -8.50933927e-02 -2.04770475e-01  9.00396853e-02\n",
      "  1.21177407e-01 -1.14670225e-01 -9.78681807e-02  4.17403642e-03\n",
      " -1.86615789e-01  1.28818072e-02  1.23023004e-01  4.30659601e+00\n",
      " -4.93018310e+00  2.81335786e+00  5.49813928e-01 -2.94672636e-01\n",
      "  1.09013599e+00  2.01527937e-01 -4.83096795e-02 -2.90051361e-04\n",
      " -1.31686671e-01 -4.82869609e-01 -1.75779706e-01 -2.06450676e-01\n",
      " -7.54361357e+05 -5.39128385e+05 -2.30871349e+05 -2.63203052e-01\n",
      "  7.88780269e-02  4.87610512e-02  1.48466147e-01  4.80946550e-02\n",
      " -7.32071659e-02 -8.29743520e-01 -8.94622800e-01  6.21176410e-02\n",
      "  2.31473954e-01  7.44205613e-02 -3.74780971e-01 -3.35088022e-01\n",
      "  8.68915824e-03  2.11752524e-01  2.29162803e-01 -1.29490388e-01\n",
      " -2.50021785e-03  3.54414188e-02 -3.93205512e-02 -8.05705326e-02\n",
      " -1.52628175e-01 -2.95956104e-02 -4.71937055e-02 -6.66044540e-01\n",
      " -2.79304683e+00 -1.55105635e-01 -3.95184484e+00 -2.36467350e+00\n",
      " -2.49591828e+00  2.56944820e-01 -3.47732095e-01  4.07029906e-02\n",
      "  2.88182505e-01 -7.77414407e-02 -1.49560603e-01  9.24730712e+00\n",
      " -2.62769660e+05 -8.35505361e+05 -1.72182585e+05  3.20797688e-01\n",
      " -2.69757908e-01  3.08219078e-01  3.57612720e-01 -4.57159132e-02\n",
      " -1.46029102e-01 -2.40113617e-01  2.03085605e-02  1.28976294e-01\n",
      "  9.29710194e-02 -2.34578638e-01 -8.48605042e-02  3.02811709e-01\n",
      "  1.68007962e-01 -4.52458839e-03 -2.97450420e-01 -6.24447475e-02\n",
      "  3.89153185e-02 -9.65899660e-02 -1.07385822e-01 -4.65131780e-02\n",
      " -1.28585147e+00 -1.94219067e-01 -2.86373195e-01  5.76263325e-02\n",
      "  4.71321524e-02 -1.27851166e+00  4.19270580e+05 -9.80550865e-02\n",
      "  2.02869716e-01 -4.44143562e-01 -7.06569428e-01 -4.03489550e-01\n",
      " -2.54679194e-01 -1.28376016e+00 -1.91483397e-01 -2.87228036e-01\n",
      "  5.75490773e-02  4.45398520e-02 -1.27839713e+00  4.19270587e+05\n",
      " -9.80849895e-02  2.00808710e-01 -4.44308959e-01 -7.02517925e-01\n",
      " -4.03025291e-01 -2.60915988e-01 -3.94354568e+00  6.55160355e-01\n",
      "  9.74789755e-01 -1.30809977e-02  2.44221643e-02 -3.94048831e+00\n",
      " -6.47980990e+05  1.27968244e-02 -5.16750626e-02  6.43559224e-01\n",
      "  6.59245917e-01  4.36660691e-01  3.34028403e-01 -1.72195616e-01\n",
      "  5.22272991e+00 -7.50389374e-01 -2.51829796e-02  4.23384362e-02\n",
      " -1.73736811e-01  1.00466442e+06  6.16422539e-02 -2.28859609e-01\n",
      " -1.90139239e+00 -2.79527792e+00 -1.92714054e+00 -1.04267129e+00\n",
      "  3.86606124e-01 -1.37599383e+00  1.38345261e+00  4.75066562e-01\n",
      " -1.96681473e-03  3.91840578e-01  1.26586587e+06 -2.73932650e-02\n",
      "  3.94602944e-01 -2.73642946e+00 -3.35393226e+00 -2.22567399e+00\n",
      " -1.93962328e+00 -8.70025028e+05 -5.21748099e+05 -5.76240249e+05\n",
      " -1.27902735e+00 -2.54970546e+00 -1.50905917e+00 -7.58812725e-01\n",
      " -2.84331622e-01  8.06196899e-02  8.26060234e-02 -2.13734536e-01\n",
      "  2.04115750e-02 -5.85768808e-02 -1.83334356e-02 -5.66056889e-02\n",
      "  1.70231316e+06 -7.04377370e+05 -1.55672586e+06  4.77052089e+04\n",
      "  9.65184844e-02 -1.97145589e-02 -6.06810520e-02 -2.09139359e-01\n",
      "  1.11718008e-01  1.22669521e-01 -5.30243471e-02 -1.75989687e-02\n",
      "  8.51927569e-03  1.05659385e-02  5.83789933e-04 -5.51768757e-02\n",
      " -4.50197912e-02 -6.33466571e-02  1.09321386e-01 -1.82069108e-02\n",
      " -2.59158547e-01  2.78531362e-01 -5.34335376e+05 -1.97041419e+05\n",
      "  2.58685231e+05  4.66055612e+05 -1.80041098e+05 -1.07957659e+05\n",
      " -5.72345789e+05 -2.88549456e+05  3.72700744e+04 -3.57823494e+05\n",
      "  5.30071790e+05  8.65468189e+05  1.36077401e+06 -4.79679784e+05\n",
      "  5.77587608e+05  3.87795250e+05  2.49782127e+06  3.41187034e+05\n",
      " -1.13930920e+06 -5.97993829e+05  8.59667141e+05  5.94369900e+05\n",
      "  1.81711128e+06 -2.07146767e+06  1.45027170e+06 -1.39749767e+06\n",
      " -1.29221531e+06  4.56609266e+05  6.39470479e+05  2.57940670e+05\n",
      " -2.56010810e+05 -1.00227740e+06 -6.68100311e+05 -2.14330846e+05\n",
      "  9.01609001e+04  3.81464234e+04 -1.00863474e+06  3.30909369e+05\n",
      "  4.71962842e+05 -1.27551672e+05  1.69766311e+05  1.22668221e+06\n",
      "  7.88261021e+05  5.59425415e+05  6.50238326e+05 -6.19046881e+00\n",
      " -4.15806543e+00 -3.84455022e+00  5.74238049e-01  3.28909647e-01\n",
      "  7.93809419e-02 -1.64954440e-01  1.68078850e-01 -3.28672324e-01\n",
      " -1.19322611e-01 -1.81114686e-02 -1.12552159e-02 -1.68788922e+06\n",
      "  1.07257476e+06  5.46353031e+05  1.24294961e+06 -1.59226545e-01\n",
      "  7.59154303e-02  1.34112257e-02 -2.33596589e-01  1.01675731e-01\n",
      " -4.84712765e-02 -3.69648585e-02  3.35810148e-02  7.15192025e-04\n",
      " -3.88081807e-02 -3.61110491e-02 -1.34260299e-01  8.81693073e-02\n",
      "  2.59094263e-02 -5.18837875e-02  6.75865675e-02 -1.18262445e-02\n",
      "  1.13780389e-01 -7.30057142e+05 -1.04756360e+06  5.97986853e+05\n",
      "  4.48403553e+05 -5.04961362e+05 -3.09437629e+05 -8.05535165e+05\n",
      " -1.58482108e+05  1.05221408e+06 -1.10687980e+06  7.16855885e+05\n",
      "  7.75010716e+05 -8.82321766e+04 -1.83962184e+05  3.21090100e+05\n",
      "  1.23657027e+06  7.36170676e+05  7.26525155e+05 -5.62168456e+05\n",
      " -2.95108493e+05 -5.80220564e+05 -8.37637160e+04 -9.70688046e+05\n",
      " -6.82905247e+05  9.39900206e+05  6.43194696e+05 -9.36644251e+05\n",
      " -8.24575391e+05  3.45463331e+05  8.32514085e+05  2.24031072e+05\n",
      " -5.60785283e+05 -1.13968021e+06 -4.50418459e+05  2.33304634e+05\n",
      "  2.81582040e+04 -1.02978380e+06 -6.10199758e+05  9.34307583e+05\n",
      " -2.69676720e+05 -4.63864039e+05  7.75765451e+05  2.08519024e+05\n",
      "  2.60831492e+05  1.37042464e+05 -4.14010552e+00  2.36323711e+00\n",
      " -3.40929964e+00  7.89495106e-01  1.43955497e-01 -1.30533258e-02\n",
      "  1.36078640e-01  1.58441436e-01  1.17055937e-01 -3.07855370e-02\n",
      " -8.08656655e-02 -1.08295611e-01 -5.68536896e+05  2.44604217e+06\n",
      " -1.89515822e+05  4.38490003e+05  2.39299972e-02 -1.97110127e-01\n",
      "  5.96706523e-02  4.09007321e-01 -9.54549437e-02 -9.02829801e-02\n",
      " -1.00984328e-02 -1.75148035e-02 -6.80799060e-02 -9.42972400e-02\n",
      " -8.29635385e-02 -7.19294356e-02  2.34247672e-01 -1.50431534e-01\n",
      " -4.47384763e-01  3.73854551e-01 -2.24008303e-01  1.58638690e-01\n",
      " -1.13465568e+06 -1.76105402e+05 -1.35613422e+06 -7.95930387e+05\n",
      " -6.40672107e+05 -3.76256705e+05 -1.20223510e+05 -9.54173599e+04\n",
      " -2.40640096e+05  1.58617933e+06  8.64558819e+05  2.03040971e+05\n",
      " -9.61376324e+05  1.12674197e+05  9.57379467e+05  9.24691509e+05\n",
      "  9.58780581e+05  6.67892936e+05  4.96230626e+05  1.26625249e+05\n",
      "  1.23667694e+05  7.62573921e+04 -3.84562262e+05 -4.50639889e+05\n",
      " -3.98315734e+05 -1.74863175e+05 -9.47808027e+05 -6.61283601e+05\n",
      " -9.95356038e+05 -3.50450561e+05 -4.44348238e+05 -2.70080193e+05\n",
      " -2.66913272e+05 -9.80296301e+04  6.92314502e+05  5.32514365e+05\n",
      "  1.30849817e+06  5.03109370e+05  3.51720355e+05 -1.22715944e+06\n",
      " -7.01511885e+05 -4.83661773e+03  1.06388995e+00  3.12750984e+00\n",
      " -5.37063462e-01  5.57800817e-02 -3.42445367e-02  1.06457119e+00\n",
      " -2.06989486e+00  2.15546184e-01 -1.42063260e-01  7.65823733e-03\n",
      "  8.01941198e-02 -7.09095309e-02  2.76281811e-02 -1.08788863e+00\n",
      " -1.09659555e+00 -3.81040672e-01 -3.69820112e-01  3.98007854e-02\n",
      " -1.09060658e+00 -2.08104170e+00 -2.07909377e-02  4.33848066e-01\n",
      " -1.83857826e-02 -8.20136683e-03  4.63318834e-03 -2.19875622e-02\n",
      " -8.18110408e-01 -2.74294591e+00 -2.28826696e-01  4.27309243e-03\n",
      " -1.36831697e-02 -8.21377520e-01 -2.90818619e-02  7.50031193e-02\n",
      " -3.57883774e-03 -3.98512690e-02  9.09910599e-02 -2.57330357e-02\n",
      "  1.98912195e-02  8.81624794e-01  2.65647969e-01  7.55259948e-03\n",
      "  2.12961639e-01  1.15506489e-01  8.81589432e-01  6.65437910e-01\n",
      " -6.20988907e-02  5.40737012e-01 -1.50328721e-02  1.98983370e-01\n",
      " -1.53793349e-01  8.86148692e-02 -4.87015647e-03 -2.01242076e-02\n",
      "  3.46390541e-02  1.33128524e-02 -1.57511470e+00  1.42906087e+00\n",
      " -1.54896843e+00 -1.95682687e-03]\n",
      "Intercept: \n",
      " 167439.67359572332\n"
     ]
    }
   ],
   "source": [
    "print('Coefficients: \\n', reg.coef_)\n",
    "print('Intercept: \\n', reg.intercept_)"
   ]
  },
  {
   "cell_type": "code",
   "execution_count": 246,
   "id": "7b661e71-dbd0-43fe-bad0-fcaddbc0d30e",
   "metadata": {},
   "outputs": [],
   "source": [
    "y_pred = reg.predict(X_test)"
   ]
  },
  {
   "cell_type": "code",
   "execution_count": 247,
   "id": "f6725d0f-6269-4bb5-bd33-8c356f67e6d1",
   "metadata": {},
   "outputs": [
    {
     "name": "stdout",
     "output_type": "stream",
     "text": [
      "R2: 0.946\n",
      "MSE: 0.163\n",
      "MAE: 0.285\n"
     ]
    }
   ],
   "source": [
    "print('R2: %.3f' % r2_score(new_y_test, y_pred))\n",
    "print('MSE: %.3f' % mean_squared_error(new_y_test, y_pred))\n",
    "print('MAE: %.3f' % mean_absolute_error(new_y_test, y_pred))"
   ]
  },
  {
   "cell_type": "code",
   "execution_count": 248,
   "id": "a7d38af6-3e45-4722-803f-d1a54cb88b2c",
   "metadata": {},
   "outputs": [
    {
     "data": {
      "text/plain": [
       "(7352, 185)"
      ]
     },
     "execution_count": 248,
     "metadata": {},
     "output_type": "execute_result"
    }
   ],
   "source": [
    "sel = SelectKBest(k=185)\n",
    "X_train_sel = sel.fit_transform(X_train, new_y_train)\n",
    "\n",
    "X_train_sel.shape"
   ]
  },
  {
   "cell_type": "code",
   "execution_count": 249,
   "id": "c19332df-9c83-4655-9dd9-9675bfca2bd9",
   "metadata": {
    "tags": []
   },
   "outputs": [
    {
     "data": {
      "text/plain": [
       "LinearRegression()"
      ]
     },
     "execution_count": 249,
     "metadata": {},
     "output_type": "execute_result"
    }
   ],
   "source": [
    "X_test_sel = sel.transform(X_test)\n",
    "\n",
    "reg = LinearRegression()\n",
    "reg.fit(X_train_sel, new_y_train)"
   ]
  },
  {
   "cell_type": "code",
   "execution_count": 250,
   "id": "6b5c7c17-2d4c-4023-84a5-01f60fdcb9c4",
   "metadata": {},
   "outputs": [
    {
     "name": "stdout",
     "output_type": "stream",
     "text": [
      "Coefficients: \n",
      " [ 8.58625446e+00 -1.40327488e+00  2.72843534e+00  8.67843814e-02\n",
      " -3.06628397e-01  6.72021849e-01  1.38653928e-01  1.63753110e-01\n",
      "  2.44548163e-01  1.57739739e-01  6.70060217e-02  4.17675377e+00\n",
      " -8.09360023e-01 -4.12778374e-01  2.31884342e-01 -3.65235888e-02\n",
      " -1.68524105e-02 -6.27390609e-02  1.01293992e-01 -4.01120947e+00\n",
      " -2.15038343e-01  1.56272593e+00 -1.47168719e+00 -3.76566372e-01\n",
      " -1.16376138e+00  7.27611359e+00  7.29233197e+00  6.95716412e+00\n",
      "  7.36906871e-01  7.34949509e-01  1.46976480e+00  1.85690283e-01\n",
      "  2.08831910e-01  2.37037729e-01  1.10647015e-01  2.81652335e-01\n",
      "  6.19313044e-02 -1.29004746e+00  1.64676962e-01 -2.64878854e-01\n",
      " -2.05392646e-01 -3.21198010e-01 -1.36489000e-01 -7.05432658e-01\n",
      "  4.83457565e+00 -1.90120816e+00  6.27266676e+00 -6.21337356e-01\n",
      " -1.01844534e-01  1.38525354e+00  4.08021932e-02 -1.39152293e-01\n",
      " -1.00616410e-01 -7.05117436e-02  1.54416504e-01  1.38750778e-01\n",
      " -7.95756900e-02 -2.22105464e-01 -1.63903584e+00 -6.14143473e-01\n",
      "  2.53969916e-01  2.18303238e-01  2.35088985e-01 -1.51612933e+00\n",
      "  3.15001214e-01  1.98946340e-01  4.26711121e-01  3.49022830e-02\n",
      " -6.19275126e-02 -1.51194419e+00 -1.00952926e+00  1.54574811e-01\n",
      "  1.53593405e-01 -1.50868072e+00  1.38683400e+00 -2.11544292e-01\n",
      "  1.86208272e-01 -1.50733245e+00 -1.01314010e+00  1.55942086e-01\n",
      "  1.56331725e-01 -1.50850160e+00  1.39125129e+00 -2.10576544e-01\n",
      "  1.87132404e-01 -2.91631956e+00  4.30428904e+00  1.12652096e+00\n",
      " -2.56326267e-02 -2.91236139e+00  1.56370075e-01 -1.55707552e-01\n",
      " -5.03006073e-02  5.72061308e+00 -5.76841476e-01  1.06560069e-01\n",
      " -4.41822252e-02  1.26540877e-01  8.26169376e-01  8.32730843e-01\n",
      "  2.77246575e-01  2.67824744e-01 -1.70473869e+06 -1.02231858e+06\n",
      " -1.12909278e+06 -6.36745920e+00 -1.48643242e+00 -2.97070782e+00\n",
      " -4.04257979e-01  1.14471802e-01  3.84490107e-01 -6.10407170e-03\n",
      " -1.77068022e-01  3.33553237e+06  7.74164077e+00  7.52178617e+00\n",
      "  1.58641724e-01 -6.46388050e-03 -3.36892979e-02 -4.33648405e-01\n",
      "  4.01428863e-01 -1.04761924e-01 -2.83663341e-01  1.34993999e+00\n",
      " -5.05571929e+00 -7.29799866e-01 -3.49886364e+00  3.91338581e+03\n",
      "  2.77526912e+03  3.22771332e+03 -2.26461365e+00 -3.46532992e+00\n",
      " -3.85693460e+00  4.90711151e-01  8.32384561e-01  6.94050684e-01\n",
      " -2.03237585e-01  1.35609457e-01 -8.38349649e+03 -8.53485025e-02\n",
      " -3.17021774e-02 -9.76733653e-02 -1.59868627e-01  4.84238674e-02\n",
      " -1.29517669e-01 -1.55587319e+00  6.85365366e+05  8.57298319e+05\n",
      "  4.50432894e+05 -3.55101409e+00  5.49594382e-01 -7.22785596e+00\n",
      "  1.31558244e+00  2.47027640e-01  1.08014971e+00 -1.86867282e+06\n",
      " -4.77740105e-02  9.10094708e-02  8.46132176e-01 -3.95553876e-01\n",
      " -1.37369911e-01  1.41104309e+00  3.75940406e+00 -6.53259519e-01\n",
      "  4.26445386e-03  1.40978964e+00 -2.26444675e+00  3.05134210e-01\n",
      " -1.73694593e-01 -2.31160417e+00 -3.64885529e+00 -1.47267941e-01\n",
      " -1.56532217e-01 -2.31510315e+00 -2.21461899e-02  6.50676996e-01\n",
      " -7.99149862e-01 -3.58542450e+00 -2.44438029e-01 -8.00913554e-01\n",
      "  1.94010263e-01 -3.58275530e-01  3.77154589e-01 -1.70712211e+00\n",
      " -2.75826478e+00]\n",
      "Intercept: \n",
      " -386125.49588255904\n"
     ]
    }
   ],
   "source": [
    "print('Coefficients: \\n', reg.coef_)\n",
    "print('Intercept: \\n', reg.intercept_)"
   ]
  },
  {
   "cell_type": "code",
   "execution_count": 251,
   "id": "832727f8-712e-4c7d-bee7-d2b0ffc63197",
   "metadata": {},
   "outputs": [],
   "source": [
    "y_pred = reg.predict(X_test_sel)"
   ]
  },
  {
   "cell_type": "code",
   "execution_count": 252,
   "id": "c14ff361-4566-41e8-8845-1ebf136fe0f1",
   "metadata": {},
   "outputs": [
    {
     "name": "stdout",
     "output_type": "stream",
     "text": [
      "R2: 0.948\n",
      "MSE: 0.158\n",
      "MAE: 0.318\n"
     ]
    }
   ],
   "source": [
    "print('R2: %.3f' % r2_score(new_y_test, y_pred))\n",
    "print('MSE: %.3f' % mean_squared_error(new_y_test, y_pred))\n",
    "print('MAE: %.3f' % mean_absolute_error(new_y_test, y_pred))"
   ]
  },
  {
   "cell_type": "markdown",
   "id": "8c88566b-ebd9-48d9-b050-06cd1a3e7baa",
   "metadata": {},
   "source": [
    "## Linear Regression in 2 dimensions"
   ]
  },
  {
   "cell_type": "code",
   "execution_count": 253,
   "id": "e6918e90-22f5-4857-8027-352e68445433",
   "metadata": {},
   "outputs": [
    {
     "name": "stdout",
     "output_type": "stream",
     "text": [
      "R2: -4.270\n",
      "MSE: 15.956\n",
      "MAE: 3.596\n"
     ]
    }
   ],
   "source": [
    "reg = LinearRegression()\n",
    "reg.fit(X_train.T[0].reshape(-1, 1), X_train.T[1].reshape(-1, 1))\n",
    "y_pred = reg.predict(X_test.T[0].reshape(-1, 1)).reshape(1,-1)[0]\n",
    "\n",
    "print('R2: %.3f' % r2_score(new_y_test, y_pred))\n",
    "print('MSE: %.3f' % mean_squared_error(new_y_test, y_pred))\n",
    "print('MAE: %.3f' % mean_absolute_error(new_y_test, y_pred))"
   ]
  },
  {
   "cell_type": "code",
   "execution_count": 254,
   "id": "d723f0ed-033b-4c3c-9ba6-34376856ddc9",
   "metadata": {},
   "outputs": [
    {
     "data": {
      "image/png": "[encoded data removed]",
      "text/plain": [
       "<Figure size 432x288 with 1 Axes>"
      ]
     },
     "metadata": {
      "needs_background": "light"
     },
     "output_type": "display_data"
    }
   ],
   "source": [
    "plt.scatter(X_train.T[0], X_train.T[1],  color='black')\n",
    "plt.plot(X_test.T[0], y_pred, color='blue', linewidth=3, label='test')\n",
    "plt.show()"
   ]
  },
  {
   "cell_type": "code",
   "execution_count": 255,
   "id": "a66ed794-654f-4426-9529-f3353253ec1b",
   "metadata": {},
   "outputs": [
    {
     "data": {
      "text/plain": [
       "(7352, 185)"
      ]
     },
     "execution_count": 255,
     "metadata": {},
     "output_type": "execute_result"
    }
   ],
   "source": [
    "sel = SelectKBest(k=185)\n",
    "X_train_sel = sel.fit_transform(X_train, new_y_train)\n",
    "\n",
    "X_train_sel.shape"
   ]
  },
  {
   "cell_type": "code",
   "execution_count": 256,
   "id": "051ecdbe-42e4-4863-a61a-b30cbf3d08dd",
   "metadata": {},
   "outputs": [
    {
     "name": "stdout",
     "output_type": "stream",
     "text": [
      "R2: -5.976\n",
      "MSE: 21.120\n",
      "MAE: 4.097\n"
     ]
    }
   ],
   "source": [
    "X_test_sel = sel.transform(X_test)\n",
    "\n",
    "reg = LinearRegression()\n",
    "reg.fit(X_train_sel.T[0].reshape(-1, 1), X_train_sel.T[1].reshape(-1, 1))\n",
    "y_pred = reg.predict(X_test_sel.T[0].reshape(-1, 1)).reshape(1,-1)[0]\n",
    "\n",
    "print('R2: %.3f' % r2_score(new_y_test, y_pred))\n",
    "print('MSE: %.3f' % mean_squared_error(new_y_test, y_pred))\n",
    "print('MAE: %.3f' % mean_absolute_error(new_y_test, y_pred))"
   ]
  },
  {
   "cell_type": "code",
   "execution_count": 257,
   "id": "d272deb1-35b0-4e9f-9122-b0da2f0767cb",
   "metadata": {},
   "outputs": [
    {
     "data": {
      "image/png": "[encoded data removed]",
      "text/plain": [
       "<Figure size 432x288 with 1 Axes>"
      ]
     },
     "metadata": {
      "needs_background": "light"
     },
     "output_type": "display_data"
    }
   ],
   "source": [
    "plt.scatter(X_train_sel.T[0], X_train_sel.T[1],  color='black')\n",
    "plt.plot(X_test_sel.T[0], y_pred, color='blue', linewidth=3, label='test')\n",
    "plt.show()"
   ]
  },
  {
   "cell_type": "markdown",
   "id": "e1057b35-280b-4ddd-81f1-2979dcd8bf84",
   "metadata": {},
   "source": [
    "# Lasso"
   ]
  },
  {
   "cell_type": "code",
   "execution_count": 258,
   "id": "8592f32d-347b-4aa6-b102-f4b5d12add87",
   "metadata": {},
   "outputs": [
    {
     "name": "stdout",
     "output_type": "stream",
     "text": [
      "Coefficients: \n",
      " [-0.          0.          0.         -0.         -0.         -0.\n",
      " -0.         -0.         -0.         -0.         -0.         -0.\n",
      "  0.          0.          0.         -0.         -0.         -0.\n",
      " -0.         -0.         -0.         -0.         -0.         -0.\n",
      " -0.          0.         -0.          0.         -0.          0.\n",
      " -0.          0.          0.          0.         -0.          0.\n",
      " -0.          0.         -0.         -0.         -0.          0.\n",
      "  0.          0.         -0.         -0.          0.         -0.\n",
      " -0.         -0.          0.          0.         -0.          0.\n",
      "  0.          0.         -0.          0.          0.          0.\n",
      " -0.         -0.         -0.          0.          0.         -0.\n",
      " -0.          0.         -0.         -0.          0.         -0.\n",
      " -0.         -0.         -0.          0.         -0.         -0.\n",
      " -0.         -0.          0.         -0.         -0.         -0.\n",
      " -0.         -0.         -0.         -0.         -0.         -0.\n",
      " -0.         -0.          0.          0.          0.         -0.\n",
      " -0.         -0.         -0.         -0.         -0.         -0.\n",
      " -0.         -0.         -0.          0.         -0.          0.\n",
      "  0.          0.         -0.          0.          0.          0.\n",
      " -0.          0.          0.          0.          0.         -0.\n",
      " -0.         -0.          0.         -0.         -0.         -0.\n",
      " -0.         -0.         -0.         -0.         -0.         -0.\n",
      "  0.          0.          0.         -0.         -0.         -0.\n",
      " -0.         -0.         -0.         -0.         -0.         -0.\n",
      " -0.          0.         -0.          0.          0.          0.\n",
      " -0.          0.         -0.          0.         -0.          0.\n",
      " -0.         -0.          0.         -0.          0.          0.\n",
      " -0.         -0.         -0.         -0.         -0.         -0.\n",
      " -0.         -0.         -0.         -0.          0.          0.\n",
      "  0.         -0.         -0.         -0.         -0.         -0.\n",
      " -0.         -0.         -0.         -0.         -0.          0.\n",
      " -0.          0.          0.          0.         -0.          0.\n",
      "  0.          0.         -0.          0.          0.         -0.\n",
      "  0.         -0.         -0.         -0.         -0.         -0.\n",
      " -0.         -0.         -0.         -0.         -0.          0.\n",
      " -0.          0.         -0.         -0.         -0.         -0.\n",
      " -0.         -0.         -0.         -0.         -0.         -0.\n",
      "  0.         -0.          0.         -0.         -0.         -0.\n",
      " -0.         -0.         -0.         -0.         -0.         -0.\n",
      " -0.          0.         -0.          0.         -0.         -0.\n",
      " -0.         -0.         -0.         -0.         -0.         -0.\n",
      " -0.         -0.         -0.         -0.          0.         -0.\n",
      " -0.         -0.         -0.         -0.         -0.         -0.\n",
      " -0.         -0.         -0.          0.         -0.          0.\n",
      " -0.         -0.         -0.         -0.         -0.         -0.\n",
      " -0.         -0.         -0.         -0.         -0.         -0.\n",
      " -0.         -0.         -0.         -0.         -0.         -0.\n",
      " -0.         -0.         -0.         -0.         -0.         -0.\n",
      " -0.         -0.         -0.         -0.         -0.          0.\n",
      "  0.          0.         -0.         -0.          0.          0.\n",
      " -0.          0.         -0.         -0.         -0.         -0.\n",
      " -0.         -0.         -0.         -0.         -0.         -0.\n",
      " -0.         -0.         -0.         -0.         -0.         -0.\n",
      " -0.         -0.         -0.         -0.         -0.         -0.\n",
      " -0.         -0.         -0.         -0.         -0.         -0.\n",
      " -0.         -0.         -0.         -0.         -0.         -0.\n",
      " -0.         -0.         -0.         -0.         -0.         -0.\n",
      " -0.         -0.         -0.         -0.         -0.         -0.\n",
      " -0.         -0.         -0.         -0.         -0.         -0.\n",
      " -0.         -0.         -0.         -0.         -0.         -0.\n",
      " -0.         -0.         -0.         -0.         -0.         -0.\n",
      " -0.19065795 -0.         -0.          0.          0.          0.\n",
      "  0.          0.          0.         -0.         -0.         -0.\n",
      " -0.         -0.         -0.         -0.         -0.         -0.\n",
      " -0.         -0.         -0.         -0.         -0.         -0.\n",
      " -0.         -0.         -0.         -0.         -0.         -0.\n",
      " -0.         -0.         -0.         -0.         -0.         -0.\n",
      " -0.         -0.         -0.         -0.         -0.         -0.\n",
      " -0.         -0.         -0.         -0.         -0.         -0.\n",
      " -0.         -0.         -0.         -0.         -0.         -0.\n",
      " -0.         -0.         -0.         -0.         -0.         -0.\n",
      " -0.         -0.         -0.         -0.         -0.         -0.\n",
      " -0.         -0.         -0.         -0.         -0.         -0.\n",
      " -0.         -0.         -0.         -0.         -0.         -0.\n",
      " -0.         -0.         -0.         -0.          0.         -0.\n",
      " -0.          0.          0.          0.         -0.          0.\n",
      "  0.          0.         -0.         -0.         -0.         -0.\n",
      " -0.         -0.         -0.         -0.         -0.         -0.\n",
      " -0.         -0.         -0.         -0.         -0.         -0.\n",
      " -0.         -0.         -0.         -0.         -0.         -0.\n",
      " -0.         -0.         -0.         -0.         -0.         -0.\n",
      " -0.         -0.         -0.         -0.         -0.         -0.\n",
      " -0.         -0.         -0.         -0.         -0.         -0.\n",
      " -0.         -0.         -0.         -0.         -0.         -0.\n",
      " -0.         -0.         -0.         -0.         -0.         -0.\n",
      " -0.         -0.          0.          0.          0.         -0.\n",
      " -0.         -0.         -0.         -0.         -0.         -0.\n",
      " -0.         -0.          0.          0.         -0.         -0.\n",
      " -0.         -0.         -0.         -0.         -0.         -0.\n",
      " -0.         -0.         -0.         -0.         -0.          0.\n",
      "  0.         -0.         -0.         -0.         -0.         -0.\n",
      " -0.         -0.         -0.         -0.         -0.          0.\n",
      " -0.         -0.         -0.          0.          0.          0.\n",
      "  0.         -0.         -0.          0.        ]\n",
      "Intercept: \n",
      " 3.5902251443363036\n"
     ]
    }
   ],
   "source": [
    "reg = Lasso()\n",
    "reg.fit(X_train, new_y_train)\n",
    "print('Coefficients: \\n', reg.coef_)\n",
    "print('Intercept: \\n', reg.intercept_)"
   ]
  },
  {
   "cell_type": "code",
   "execution_count": 259,
   "id": "5a054411-a006-415e-8d03-6b5b26cb7015",
   "metadata": {},
   "outputs": [
    {
     "name": "stdout",
     "output_type": "stream",
     "text": [
      "R2: 0.131\n",
      "MSE: 2.631\n",
      "MAE: 1.395\n"
     ]
    }
   ],
   "source": [
    "y_pred = reg.predict(X_test)\n",
    "print('R2: %.3f' % r2_score(new_y_test, y_pred))\n",
    "print('MSE: %.3f' % mean_squared_error(new_y_test, y_pred))\n",
    "print('MAE: %.3f' % mean_absolute_error(new_y_test, y_pred))"
   ]
  },
  {
   "cell_type": "code",
   "execution_count": 260,
   "id": "b7a8093f-7c5c-4295-9ce8-73d99a046c4c",
   "metadata": {},
   "outputs": [
    {
     "data": {
      "text/plain": [
       "(7352, 185)"
      ]
     },
     "execution_count": 260,
     "metadata": {},
     "output_type": "execute_result"
    }
   ],
   "source": [
    "sel = SelectKBest(k=185)\n",
    "X_train_sel = sel.fit_transform(X_train, new_y_train)\n",
    "\n",
    "X_train_sel.shape"
   ]
  },
  {
   "cell_type": "code",
   "execution_count": 261,
   "id": "6a61ce3a-5ea3-431a-9936-38930200d2fd",
   "metadata": {},
   "outputs": [
    {
     "name": "stdout",
     "output_type": "stream",
     "text": [
      "Coefficients: \n",
      " [-0.         -0.         -0.         -0.         -0.         -0.\n",
      " -0.         -0.         -0.          0.          0.         -0.\n",
      " -0.         -0.         -0.         -0.         -0.         -0.\n",
      " -0.          0.         -0.          0.         -0.          0.\n",
      " -0.         -0.         -0.         -0.         -0.         -0.\n",
      " -0.         -0.         -0.         -0.          0.          0.\n",
      "  0.         -0.         -0.         -0.         -0.         -0.\n",
      " -0.         -0.         -0.         -0.         -0.         -0.\n",
      " -0.         -0.         -0.          0.         -0.         -0.\n",
      " -0.         -0.         -0.         -0.         -0.         -0.\n",
      " -0.         -0.          0.         -0.         -0.         -0.\n",
      " -0.         -0.         -0.         -0.         -0.         -0.\n",
      " -0.         -0.         -0.         -0.         -0.         -0.\n",
      " -0.         -0.         -0.         -0.         -0.         -0.\n",
      " -0.         -0.         -0.         -0.         -0.         -0.\n",
      " -0.         -0.         -0.         -0.         -0.         -0.\n",
      " -0.         -0.         -0.         -0.         -0.         -0.\n",
      " -0.         -0.         -0.         -0.         -0.         -0.\n",
      " -0.         -0.         -0.         -0.         -0.         -0.\n",
      " -0.         -0.         -0.         -0.         -0.         -0.\n",
      " -0.         -0.         -0.         -0.         -0.         -0.\n",
      " -0.         -0.         -0.         -0.         -0.         -0.\n",
      " -0.         -0.         -0.         -0.         -0.         -0.\n",
      " -0.         -0.         -0.         -0.         -0.19065795 -0.\n",
      " -0.         -0.         -0.         -0.         -0.         -0.\n",
      " -0.         -0.         -0.         -0.         -0.         -0.\n",
      " -0.         -0.         -0.         -0.         -0.         -0.\n",
      " -0.         -0.         -0.         -0.         -0.         -0.\n",
      " -0.         -0.         -0.         -0.         -0.         -0.\n",
      " -0.         -0.         -0.         -0.         -0.         -0.\n",
      " -0.         -0.         -0.          0.         -0.        ]\n",
      "Intercept: \n",
      " 3.5902251443363036\n"
     ]
    }
   ],
   "source": [
    "reg = Lasso()\n",
    "reg.fit(X_train_sel, new_y_train)\n",
    "print('Coefficients: \\n', reg.coef_)\n",
    "print('Intercept: \\n', reg.intercept_)"
   ]
  },
  {
   "cell_type": "code",
   "execution_count": 262,
   "id": "1ccb0d7d-b6ce-49aa-9471-57d72f661eee",
   "metadata": {},
   "outputs": [
    {
     "name": "stdout",
     "output_type": "stream",
     "text": [
      "R2: 0.131\n",
      "MSE: 2.631\n",
      "MAE: 1.395\n"
     ]
    }
   ],
   "source": [
    "X_test_sel = sel.transform(X_test)\n",
    "y_pred = reg.predict(X_test_sel)\n",
    "print('R2: %.3f' % r2_score(new_y_test, y_pred))\n",
    "print('MSE: %.3f' % mean_squared_error(new_y_test, y_pred))\n",
    "print('MAE: %.3f' % mean_absolute_error(new_y_test, y_pred))"
   ]
  },
  {
   "cell_type": "markdown",
   "id": "bf069509-5800-415f-b05c-3d347ad8fa13",
   "metadata": {},
   "source": [
    "# Ridge"
   ]
  },
  {
   "cell_type": "code",
   "execution_count": 263,
   "id": "cb9f68d1-ce7b-4f54-a60e-269020aea331",
   "metadata": {},
   "outputs": [
    {
     "name": "stdout",
     "output_type": "stream",
     "text": [
      "Coefficients: \n",
      " [-2.28183505e-01  7.58554524e-02  1.07149729e-02  3.07107217e-01\n",
      " -7.11002527e-01 -3.91118939e-01  5.93198179e-01 -1.55632768e-01\n",
      "  1.36745978e-01  2.61268177e-01  1.74392503e-01  1.30878595e-01\n",
      "  2.93978274e-01  5.10091883e-02  1.13223308e-01  1.16481723e+00\n",
      "  3.43153518e-01  3.09977687e-01  3.29298235e-01 -1.29246275e-01\n",
      "  4.17897936e-01 -3.82261991e-02  3.02133334e-02 -1.15322134e-01\n",
      "  5.23950846e-02  5.02530577e-01  1.26046386e-01 -2.49363762e-01\n",
      " -2.30467782e-02 -1.19403089e-01 -1.74456893e-01 -1.95538475e-01\n",
      " -1.64906461e-01  3.55623958e-01  1.43905378e-01 -2.28195975e-01\n",
      " -8.14158306e-02  5.13774665e-02  8.46202119e-02 -5.82141304e-02\n",
      " -4.11507448e-01 -6.36039495e-02 -3.88886602e-01 -1.87130244e-01\n",
      "  4.13139825e-01  1.45388365e-01 -1.83480169e-01  1.77037003e-01\n",
      "  7.86188058e-02 -3.70807255e-01  2.67439861e-01 -2.61380902e-02\n",
      " -4.27396202e-01 -2.91630229e-01  1.73473040e-02 -1.40303532e-01\n",
      "  1.28803040e-01  1.53460249e+00  8.13474459e-01  7.13272756e-02\n",
      " -1.73725441e-01  9.27873733e-02  7.81371197e-02  1.15815785e-02\n",
      "  2.28438874e-02 -7.98646664e-02 -4.10574975e-02  4.29697770e-02\n",
      "  7.70919628e-02 -2.58639213e-01  6.12630972e-02  1.23371350e-01\n",
      " -2.64250451e-01 -2.54477729e-01  6.07916455e-02  9.04448128e-02\n",
      " -1.96737268e-01  3.02180074e-02  2.39358601e-02 -1.32985101e-02\n",
      "  3.22100908e-02  2.02350813e-02  5.10926339e-02  7.16854545e-02\n",
      " -3.89778240e-03  1.64588208e-01 -2.25742713e-01 -1.83897291e-01\n",
      "  3.75919974e-01  3.00877794e-01  7.08068769e-02  1.62906993e-01\n",
      "  6.06850570e-02  2.45112905e-01  2.74047866e-02 -6.43102792e-02\n",
      "  1.35702201e-01  1.56505713e-01  9.45425493e-02  2.25700940e-02\n",
      " -3.23708878e-01  4.14836247e-02 -3.80497332e-01 -1.47102560e-01\n",
      " -5.97752275e-01 -1.47325188e-01  4.95235215e-04  1.90004515e-01\n",
      "  9.19354595e-02  5.87960530e-03 -2.57737968e-02 -3.92426222e-03\n",
      "  1.14548658e-01 -2.12469137e-02 -3.77494910e-02  1.56536560e-01\n",
      "  1.05328724e-01 -1.38553632e-01 -1.25038189e-01  4.17615516e-03\n",
      " -1.81934794e-01 -2.68778106e-02  9.59760323e-02  9.84510402e-02\n",
      " -3.06681426e-01 -4.14560658e-02  1.06772499e-01 -2.85697838e-01\n",
      "  3.82862670e-01  1.89037310e-01 -8.35381357e-02 -2.38903011e-03\n",
      " -1.77116891e-01 -4.50156719e-01 -1.12116861e-01 -1.46866213e-01\n",
      " -3.29654757e-02  3.66977131e-02  1.67357212e-01 -1.71322755e-01\n",
      "  9.00658304e-02  2.41978459e-01  1.60547853e-01  7.14087077e-02\n",
      " -7.39521150e-02 -4.81848429e-01 -4.44958822e-01 -3.16851154e-02\n",
      "  5.17397312e-02  3.85472589e-02 -2.49612202e-01 -2.59438985e-01\n",
      " -2.60415846e-02 -4.15019669e-03 -1.26780500e-03 -1.34203873e-01\n",
      "  4.80113569e-02  4.12287951e-02 -4.54689165e-02 -7.66581498e-02\n",
      " -1.34117059e-01 -2.90322405e-02 -5.43976271e-02 -5.10208655e-01\n",
      " -1.68339477e-01 -5.49672087e-01 -6.88889220e-01  2.59566803e-01\n",
      " -3.14382679e-01  2.40213753e-01 -5.19126785e-01  1.32334412e-01\n",
      "  2.50734476e-01  1.46044463e-02 -1.79557932e-01 -1.10717345e-01\n",
      "  4.41567673e-01 -1.74428484e-01 -8.34025679e-01 -6.08194730e-02\n",
      "  1.01964931e-01  1.89431318e-01  3.85321288e-01 -2.38889461e-02\n",
      " -1.36286477e-01 -2.62770764e-01 -3.23358201e-01 -6.34761454e-02\n",
      "  6.17892917e-02 -7.54275088e-02 -9.66409849e-02  1.75137782e-01\n",
      "  1.29121941e-01  4.67962325e-02 -1.82898128e-01  9.95247277e-03\n",
      "  4.88339841e-02 -6.10356561e-02 -1.22382884e-01 -5.95986276e-02\n",
      " -6.99747813e-01  5.69950270e-01  3.90412635e-02  1.18524156e-01\n",
      "  3.77922952e-02 -6.99747813e-01  5.13677106e-01 -2.01708242e-01\n",
      "  1.71300938e-01 -1.37711864e-02 -3.49609081e-02 -5.31950690e-02\n",
      " -4.48837393e-02 -6.99747813e-01  5.69950270e-01  3.90412635e-02\n",
      "  1.18524156e-01  3.77922952e-02 -6.99747813e-01  5.13677106e-01\n",
      " -2.01708242e-01  1.71300938e-01 -1.37711864e-02 -3.49609081e-02\n",
      " -5.31950690e-02 -4.48837393e-02 -8.17574664e-01 -2.46677407e-01\n",
      "  1.02916546e-01 -1.80353908e-01  1.01760573e-02 -8.17574664e-01\n",
      "  1.48281844e-01  1.41564088e-01 -6.91853001e-02  1.51559315e-01\n",
      "  1.51277252e-01  7.64985586e-02  4.41035805e-03 -1.64152371e-01\n",
      "  4.84248009e-01  4.98468366e-03  1.86293480e-01  3.79063357e-02\n",
      " -1.64152371e-01  3.33992033e-02 -1.26878612e-01 -2.39952433e-01\n",
      " -5.93469511e-02 -2.19243516e-01 -3.19809518e-01 -2.18272199e-01\n",
      " -1.07722861e-01  1.27333898e-01  4.01500468e-01  2.66797636e-01\n",
      " -1.56236190e-02 -1.07722861e-01 -1.36907729e-01  1.66173973e-01\n",
      "  3.95690711e-01 -6.82180849e-01 -7.97955271e-01 -5.97388278e-01\n",
      " -5.57163763e-01 -1.82002604e-01 -3.42463508e-01 -7.04261869e-02\n",
      "  3.59993523e-01 -9.12786485e-01 -5.67011092e-01 -5.25682722e-01\n",
      " -4.60142356e-01 -5.87156741e-02  1.26883796e-01 -3.77608114e-01\n",
      " -4.40602389e-02 -4.68230570e-02 -3.48586139e-02 -8.49647451e-02\n",
      " -2.21820587e-01  2.41755391e-01  3.03510499e-01  1.37517300e-01\n",
      "  9.15101099e-02  1.41209799e-02 -3.53389290e-02 -1.70123352e-01\n",
      "  1.21445026e-01  4.28317233e-02 -5.30243033e-02 -2.69141098e-02\n",
      "  2.04357758e-02  4.23935711e-02 -1.08410097e-02 -2.77430940e-02\n",
      " -1.24538100e-01  7.78164869e-03  7.89015389e-02  7.86857174e-03\n",
      " -2.97291045e-01  3.04353424e-01  3.45152990e-01  1.27719500e-02\n",
      " -1.44670030e-01  5.41066333e-02 -2.95336877e-02 -9.79686544e-03\n",
      " -6.09601206e-02  1.53872020e-01  2.79344291e-01 -1.07986246e-01\n",
      " -2.21353583e-02  1.10461417e-02  2.49207059e-01  2.79757830e-02\n",
      "  1.95041469e-01  3.57636492e-01  7.89099050e-03  1.18285856e-01\n",
      " -7.03808440e-02 -5.45984030e-02 -1.23428844e-02 -1.53177138e-02\n",
      "  3.33438851e-01  4.18151796e-02 -7.23961072e-02 -1.39997212e-02\n",
      "  3.06116837e-01  6.49901209e-02  1.13401820e-01  2.49931643e-01\n",
      " -1.95329528e-01  1.09339224e-01  1.37679235e-01 -1.98115560e-01\n",
      "  8.41875133e-02 -6.17118181e-02  1.71246210e-01 -8.49627340e-02\n",
      "  6.01018384e-02  4.11581270e-02  1.24545458e-01  9.52997567e-02\n",
      "  2.85749192e-01 -6.15494651e-02  3.11203676e-01 -3.57238108e-01\n",
      " -5.87552533e-02 -8.35066718e-02 -1.46659260e-02  8.56644125e-02\n",
      " -8.44278897e-02 -3.00454503e-01  4.50812405e-02 -2.88274289e-01\n",
      " -1.12964662e-01 -1.74788397e-02 -1.04985329e-02  2.32936559e-01\n",
      "  1.33726937e-01  1.55604670e-01  9.53013748e-02 -3.19293192e-02\n",
      "  6.84885350e-02  4.73409055e-02 -2.25909814e-01  1.39985717e-01\n",
      " -5.29959665e-02 -5.47747075e-02  3.43395572e-02 -2.61211041e-03\n",
      " -6.51329345e-02 -4.62821348e-02 -1.14785428e-01  6.93188723e-02\n",
      "  4.60735824e-02 -9.34786223e-02  1.36064516e-01 -2.95362292e-02\n",
      "  9.06165989e-02 -1.15112342e-01 -1.36513645e-02  5.31748383e-01\n",
      "  7.21166962e-02  1.66124291e-02  2.37826712e-02 -1.68388266e-02\n",
      "  4.40087540e-02 -6.01809731e-02  4.53696839e-01  2.09462229e-02\n",
      " -8.03870774e-03  1.56635434e-01  6.73173359e-02  4.95477878e-01\n",
      " -1.37760869e-02  2.32750107e-01  1.07404350e-01  6.77811928e-03\n",
      "  5.84497236e-02 -8.81985239e-03  9.73571162e-02  1.04181904e-01\n",
      "  2.20478733e-01  3.04761778e-02  4.57481497e-03  1.78269864e-01\n",
      "  7.91533896e-02  7.37507818e-02  5.03591041e-02  2.39401116e-01\n",
      "  5.55398868e-02 -1.77809922e-01  2.24257821e-01 -6.65628328e-02\n",
      "  7.81258973e-02  6.92759615e-02  1.49508243e-01 -6.82010953e-02\n",
      " -5.42124444e-02  1.94775840e-01  6.92614834e-03 -1.53541743e-01\n",
      "  1.84045243e-01  9.41249464e-02 -3.09256109e-02 -4.68478019e-01\n",
      " -2.79800607e-01  3.46155654e-01  1.83825038e-02 -1.78082516e-01\n",
      " -1.42635878e-01  2.33204648e-02 -1.15613390e-01 -2.91152072e-02\n",
      " -7.84983155e-02 -9.10814683e-02  5.08093934e-02 -1.51098751e-01\n",
      "  2.17226027e-02  8.07965185e-03  2.78305065e-02 -9.39537402e-02\n",
      "  1.01089410e-01  4.21466671e-01 -1.60950182e-01 -2.90598092e-02\n",
      " -6.04565390e-03 -1.49760516e-02 -8.01617212e-02 -1.21106895e-01\n",
      " -6.14293878e-02 -5.80734011e-02  1.28761180e-01 -4.18290286e-02\n",
      " -2.62534990e-01  2.23903966e-01 -3.11634913e-01  2.27491954e-01\n",
      " -1.40551919e-01 -2.10553161e-01  6.62346734e-02  1.71302593e-01\n",
      "  4.26333812e-02 -6.51500713e-02 -5.07140890e-02  3.73709167e-02\n",
      " -1.63053607e-01  1.23169939e-01  3.03129519e-03 -1.17378093e-02\n",
      " -1.56641800e-01  1.24599161e-01  9.84764440e-02 -9.51041223e-03\n",
      " -1.12640729e-01  1.77546314e-01 -8.29441506e-02 -5.90772894e-02\n",
      " -6.65056219e-02  1.23828835e-01  6.01226410e-02 -5.16588488e-02\n",
      " -7.88899800e-02  6.92285730e-03  1.66329434e-03  1.10882973e-01\n",
      " -1.89346023e-01  4.93118141e-01  1.14784107e-01  1.01557861e-01\n",
      "  8.37203397e-02 -1.27927892e-01 -2.64450538e-01  2.58241125e-01\n",
      " -1.49612806e-02  1.58618277e-01  2.69632287e-02 -3.72019304e-02\n",
      "  5.32313631e-04  7.84129936e-02  3.27124518e-01  6.12542383e-01\n",
      " -5.19733061e-02  1.38682725e-01 -2.00474030e-02  3.27124518e-01\n",
      " -8.47304874e-01  1.25222919e-01 -7.98064254e-02  5.87990469e-03\n",
      "  5.88823501e-02  3.28327911e-02 -3.55510179e-02 -3.80248487e-01\n",
      " -2.33736242e-01 -3.47301412e-01 -2.98125782e-01  3.62192429e-02\n",
      " -3.80248487e-01 -5.72441629e-01 -6.12491612e-02  4.67860749e-01\n",
      " -2.13861863e-02 -3.38373820e-02 -4.07826521e-02  9.83250209e-03\n",
      "  1.09842783e-01  3.44691120e-02 -2.20538154e-01 -4.19516300e-02\n",
      "  6.20683323e-03  1.09842783e-01 -4.10978727e-02  2.10180552e-02\n",
      " -6.61289518e-02 -3.99755586e-02  1.95148045e-02 -9.88009613e-02\n",
      "  8.72509606e-02  2.25632314e-01 -6.31098217e-02  4.13904968e-04\n",
      "  4.25546220e-02  1.14934875e-01  2.25632314e-01 -3.59677153e-01\n",
      " -4.73589617e-02  4.05796677e-01  1.98238900e-03  8.36212412e-02\n",
      " -1.30243343e-01  9.45451573e-02  4.92235273e-03 -1.36876003e-02\n",
      "  3.33969664e-02  1.63054994e-02 -1.13357050e+00  9.11273381e-01\n",
      " -8.13615990e-01 -1.73401434e-03]\n",
      "Intercept: \n",
      " 8.890906878307707\n"
     ]
    }
   ],
   "source": [
    "reg = Ridge()\n",
    "reg.fit(X_train, new_y_train)\n",
    "print('Coefficients: \\n', reg.coef_)\n",
    "print('Intercept: \\n', reg.intercept_)"
   ]
  },
  {
   "cell_type": "code",
   "execution_count": 264,
   "id": "eb0f1d80-b0dd-4af1-b060-4c4a4a1aa87c",
   "metadata": {},
   "outputs": [
    {
     "name": "stdout",
     "output_type": "stream",
     "text": [
      "R2: 0.948\n",
      "MSE: 0.156\n",
      "MAE: 0.285\n"
     ]
    }
   ],
   "source": [
    "y_pred = reg.predict(X_test)\n",
    "print('R2: %.3f' % r2_score(new_y_test, y_pred))\n",
    "print('MSE: %.3f' % mean_squared_error(new_y_test, y_pred))\n",
    "print('MAE: %.3f' % mean_absolute_error(new_y_test, y_pred))"
   ]
  },
  {
   "cell_type": "code",
   "execution_count": 265,
   "id": "6860acac-044e-487a-88d8-5907165514fa",
   "metadata": {},
   "outputs": [
    {
     "data": {
      "text/plain": [
       "(7352, 185)"
      ]
     },
     "execution_count": 265,
     "metadata": {},
     "output_type": "execute_result"
    }
   ],
   "source": [
    "sel = SelectKBest(k=185)\n",
    "X_train_sel = sel.fit_transform(X_train, new_y_train)\n",
    "\n",
    "X_train_sel.shape"
   ]
  },
  {
   "cell_type": "code",
   "execution_count": 266,
   "id": "6df5e1e3-b818-4846-a906-81ad2f25466e",
   "metadata": {},
   "outputs": [
    {
     "name": "stdout",
     "output_type": "stream",
     "text": [
      "Coefficients: \n",
      " [ 1.36603978e-01 -1.04810397e+00 -1.11052997e-01  2.14187167e-01\n",
      " -2.99726850e-01  3.12550228e-01  1.76369067e-01  2.08469453e-01\n",
      "  2.54896762e-01  1.60313513e-01 -2.82232156e-02  1.58951920e+00\n",
      "  4.98874258e-01 -4.33730659e-01  3.65490830e-01  1.63753043e-01\n",
      " -4.03510987e-02 -5.12878019e-02 -3.57055671e-01 -1.52475462e+00\n",
      " -1.01014894e-02  1.74572321e-01 -1.05954971e+00 -1.06862311e+00\n",
      " -1.07250598e+00  4.33390725e-01  1.94301381e-01  1.94659622e-01\n",
      "  9.17653897e-02 -4.28407820e-02  2.65246795e-01  3.24403877e-01\n",
      "  1.66074714e-01  2.62258317e-01  4.98441652e-02  2.93593847e-01\n",
      "  1.20013218e-01  8.53983229e-02  1.16022455e-01 -3.29929166e-01\n",
      " -8.04536823e-02 -3.64687484e-01 -7.45094948e-02 -7.32713341e-01\n",
      "  1.56581744e-01 -1.31551417e-01 -4.79690805e-01 -2.40565848e-01\n",
      " -1.68576415e-01  4.05229081e-01  2.07090579e-02 -1.23308689e-01\n",
      " -9.29533553e-03 -2.23472891e-01  1.87362693e-01  4.57391099e-01\n",
      " -5.84031037e-01 -3.33631604e-01 -8.38805754e-01 -5.04786513e-01\n",
      "  2.78244428e-01  2.29039690e-01  2.18341470e-01 -2.90014312e-02\n",
      " -5.91708199e-02  1.00292061e-01  4.41001470e-01  3.64476914e-02\n",
      " -5.37734147e-02 -8.09169561e-01  5.46001219e-01  2.31463323e-01\n",
      "  1.62580035e-01 -8.09169561e-01  1.03984471e+00 -2.49864832e-01\n",
      "  1.90433415e-01 -8.09169561e-01  5.46001219e-01  2.31463323e-01\n",
      "  1.62580035e-01 -8.09169561e-01  1.03984471e+00 -2.49864832e-01\n",
      "  1.90433415e-01 -9.80488539e-01 -3.35913947e-01  1.53277125e-01\n",
      " -1.62538752e-01 -9.80488539e-01  3.21072954e-01 -1.85268157e-01\n",
      " -5.42701027e-02  6.05949109e-01  5.90349029e-02  2.93256973e-01\n",
      " -5.42701027e-02 -9.98950685e-03  3.84381784e-03  3.84381784e-03\n",
      "  2.68179835e-01  2.69039426e-01 -2.09212236e-01 -7.71281135e-01\n",
      " -3.62704505e-01 -1.20327632e-01 -1.28974455e+00 -5.64303622e-01\n",
      " -7.67394484e-01 -4.99055164e-01 -5.70365417e-02 -7.60589391e-02\n",
      " -2.43875373e-01 -4.66093844e-01  8.30346689e-01  1.77773614e+00\n",
      "  1.60620147e-01  8.50434599e-03  3.83804266e-02 -4.12383050e-01\n",
      "  3.40978967e-01 -7.58823480e-02  1.73623098e-01  3.82960672e-01\n",
      "  5.80359006e-01 -1.36406167e-01  1.20632993e+00  4.02032874e-01\n",
      "  1.09464371e-01  6.72504056e-01  1.97235868e-01  6.81013661e-02\n",
      " -3.93930716e-01  2.84729219e-01  5.14950652e-01  3.13975908e-01\n",
      " -2.67315973e-01 -4.87071283e-02  4.83110181e-01  3.29481852e-02\n",
      "  7.70504637e-02  4.41080293e-02 -2.34356041e-01 -7.23899326e-02\n",
      " -1.74398729e-01 -1.11389398e+00 -4.77347004e-01  2.42165643e-01\n",
      " -8.90899509e-02 -6.31740506e-03 -6.76850522e-01 -9.61434847e-01\n",
      "  1.01297336e+00  2.51124018e-01  6.47937565e-01 -8.54507082e-02\n",
      " -9.92683445e-03  2.09947330e-01  8.44635325e-01 -4.00041059e-01\n",
      " -1.26584775e-01  4.54967740e-01  4.26709477e-01 -1.74816317e-01\n",
      "  9.34771096e-02  4.54967740e-01 -1.09142065e+00  2.21408923e-01\n",
      " -1.07452129e-01 -4.28954804e-01 -6.10473187e-01 -3.14171950e-01\n",
      " -2.48227247e-01 -4.28954804e-01 -1.42881750e-03  6.36819052e-01\n",
      "  2.22285127e-01 -4.15190402e-01 -3.83268550e-01  2.22285127e-01\n",
      "  1.62461645e-01 -3.65687261e-01  4.00159452e-01 -1.42428517e+00\n",
      " -2.21507751e+00]\n",
      "Intercept: \n",
      " 5.383128853718409\n"
     ]
    }
   ],
   "source": [
    "reg = Ridge()\n",
    "reg.fit(X_train_sel, new_y_train)\n",
    "print('Coefficients: \\n', reg.coef_)\n",
    "print('Intercept: \\n', reg.intercept_)"
   ]
  },
  {
   "cell_type": "code",
   "execution_count": 267,
   "id": "2eef0079-9b60-468a-8dc9-01c61920a540",
   "metadata": {},
   "outputs": [
    {
     "name": "stdout",
     "output_type": "stream",
     "text": [
      "R2: 0.948\n",
      "MSE: 0.157\n",
      "MAE: 0.318\n"
     ]
    }
   ],
   "source": [
    "X_test_sel = sel.transform(X_test)\n",
    "\n",
    "y_pred = reg.predict(X_test_sel)\n",
    "print('R2: %.3f' % r2_score(new_y_test, y_pred))\n",
    "print('MSE: %.3f' % mean_squared_error(new_y_test, y_pred))\n",
    "print('MAE: %.3f' % mean_absolute_error(new_y_test, y_pred))"
   ]
  },
  {
   "cell_type": "markdown",
   "id": "59b09a76-20f8-45b6-bbe0-8dc7b26afc03",
   "metadata": {},
   "source": [
    "# Logistic Regression"
   ]
  },
  {
   "cell_type": "code",
   "execution_count": 268,
   "id": "e79be042-6e6e-4f68-865c-175de392ad74",
   "metadata": {},
   "outputs": [
    {
     "data": {
      "image/png": "[encoded data removed]",
      "text/plain": [
       "<Figure size 432x288 with 1 Axes>"
      ]
     },
     "metadata": {
      "needs_background": "light"
     },
     "output_type": "display_data"
    }
   ],
   "source": [
    "plt.scatter(X_train.T[0], y_train)\n",
    "#plt.xlabel(selected_columns[0], fontsize=16)\n",
    "#plt.ylabel('Occupancy', fontsize=16)\n",
    "plt.tick_params(axis='both', which='major', labelsize=16)\n",
    "plt.show()"
   ]
  },
  {
   "cell_type": "code",
   "execution_count": 269,
   "id": "f428f522-b5a4-48f9-a46b-a78deb0b2c0b",
   "metadata": {},
   "outputs": [],
   "source": [
    "from sklearn.linear_model import LogisticRegression\n",
    "from sklearn.metrics import accuracy_score, f1_score, classification_report"
   ]
  },
  {
   "cell_type": "code",
   "execution_count": 270,
   "id": "033ff345-b3a1-4f20-9486-1e1351ca9b87",
   "metadata": {},
   "outputs": [
    {
     "name": "stderr",
     "output_type": "stream",
     "text": [
      "C:\\Users\\Admin\\anaconda3\\lib\\site-packages\\sklearn\\linear_model\\_logistic.py:763: ConvergenceWarning: lbfgs failed to converge (status=1):\n",
      "STOP: TOTAL NO. of ITERATIONS REACHED LIMIT.\n",
      "\n",
      "Increase the number of iterations (max_iter) or scale the data as shown in:\n",
      "    https://scikit-learn.org/stable/modules/preprocessing.html\n",
      "Please also refer to the documentation for alternative solver options:\n",
      "    https://scikit-learn.org/stable/modules/linear_model.html#logistic-regression\n",
      "  n_iter_i = _check_optimize_result(\n"
     ]
    },
    {
     "data": {
      "text/plain": [
       "LogisticRegression(random_state=0)"
      ]
     },
     "execution_count": 270,
     "metadata": {},
     "output_type": "execute_result"
    }
   ],
   "source": [
    "clf = LogisticRegression(random_state=0)\n",
    "clf.fit(X_train, y_train)"
   ]
  },
  {
   "cell_type": "code",
   "execution_count": 271,
   "id": "6a03848b-0907-4a22-8d35-f602a057cde4",
   "metadata": {},
   "outputs": [
    {
     "name": "stdout",
     "output_type": "stream",
     "text": [
      "Accuracy 0.9521547336274178\n",
      "F1-score [0.99906977 0.91239316 0.92863595 0.96039604 0.96543504 0.94498382]\n",
      "                    precision    recall  f1-score   support\n",
      "\n",
      "            LAYING       1.00      1.00      1.00       537\n",
      "           SITTING       0.96      0.87      0.91       491\n",
      "          STANDING       0.89      0.97      0.93       532\n",
      "           WALKING       0.94      0.98      0.96       496\n",
      "WALKING_DOWNSTAIRS       0.97      0.96      0.97       420\n",
      "  WALKING_UPSTAIRS       0.96      0.93      0.94       471\n",
      "\n",
      "          accuracy                           0.95      2947\n",
      "         macro avg       0.95      0.95      0.95      2947\n",
      "      weighted avg       0.95      0.95      0.95      2947\n",
      "\n"
     ]
    }
   ],
   "source": [
    "y_pred = clf.predict(X_test)\n",
    "\n",
    "print('Accuracy %s' % accuracy_score(y_test, y_pred))\n",
    "print('F1-score %s' % f1_score(y_test, y_pred, average=None))\n",
    "print(classification_report(y_test, y_pred))"
   ]
  },
  {
   "cell_type": "code",
   "execution_count": 272,
   "id": "615cf29e-33f0-48b1-ac24-9d9da2c6697d",
   "metadata": {},
   "outputs": [
    {
     "data": {
      "text/plain": [
       "(7352, 185)"
      ]
     },
     "execution_count": 272,
     "metadata": {},
     "output_type": "execute_result"
    }
   ],
   "source": [
    "sel = SelectKBest(k=185)\n",
    "X_train_sel = sel.fit_transform(X_train, new_y_train)\n",
    "\n",
    "X_train_sel.shape"
   ]
  },
  {
   "cell_type": "code",
   "execution_count": 273,
   "id": "473cdbd6-96f9-4674-b831-973ee9c0bf92",
   "metadata": {},
   "outputs": [
    {
     "name": "stderr",
     "output_type": "stream",
     "text": [
      "C:\\Users\\Admin\\anaconda3\\lib\\site-packages\\sklearn\\linear_model\\_logistic.py:763: ConvergenceWarning: lbfgs failed to converge (status=1):\n",
      "STOP: TOTAL NO. of ITERATIONS REACHED LIMIT.\n",
      "\n",
      "Increase the number of iterations (max_iter) or scale the data as shown in:\n",
      "    https://scikit-learn.org/stable/modules/preprocessing.html\n",
      "Please also refer to the documentation for alternative solver options:\n",
      "    https://scikit-learn.org/stable/modules/linear_model.html#logistic-regression\n",
      "  n_iter_i = _check_optimize_result(\n"
     ]
    },
    {
     "data": {
      "text/plain": [
       "LogisticRegression(random_state=0)"
      ]
     },
     "execution_count": 273,
     "metadata": {},
     "output_type": "execute_result"
    }
   ],
   "source": [
    "clf = LogisticRegression(random_state=0)\n",
    "clf.fit(X_train_sel, y_train)"
   ]
  },
  {
   "cell_type": "code",
   "execution_count": 274,
   "id": "2e33f70a-3a72-45fa-af0a-98a8c85569ad",
   "metadata": {},
   "outputs": [
    {
     "name": "stdout",
     "output_type": "stream",
     "text": [
      "Accuracy 0.9338310145911096\n",
      "F1-score [0.97421203 0.88577586 0.88441331 0.95274831 0.97613365 0.93791574]\n",
      "                    precision    recall  f1-score   support\n",
      "\n",
      "            LAYING       1.00      0.95      0.97       537\n",
      "           SITTING       0.94      0.84      0.89       491\n",
      "          STANDING       0.83      0.95      0.88       532\n",
      "           WALKING       0.91      1.00      0.95       496\n",
      "WALKING_DOWNSTAIRS       0.98      0.97      0.98       420\n",
      "  WALKING_UPSTAIRS       0.98      0.90      0.94       471\n",
      "\n",
      "          accuracy                           0.93      2947\n",
      "         macro avg       0.94      0.93      0.94      2947\n",
      "      weighted avg       0.94      0.93      0.93      2947\n",
      "\n"
     ]
    }
   ],
   "source": [
    "X_test_sel = sel.transform(X_test)\n",
    "y_pred = clf.predict(X_test_sel)\n",
    "\n",
    "print('Accuracy %s' % accuracy_score(y_test, y_pred))\n",
    "print('F1-score %s' % f1_score(y_test, y_pred, average=None))\n",
    "print(classification_report(y_test, y_pred))"
   ]
  },
  {
   "cell_type": "markdown",
   "id": "4dc92a29-d18b-4e07-a8cd-291f91388cc5",
   "metadata": {},
   "source": [
    "# Linear SVM"
   ]
  },
  {
   "cell_type": "code",
   "execution_count": 275,
   "id": "12e3035b-97d2-4818-8e03-19db9f17f70c",
   "metadata": {},
   "outputs": [],
   "source": [
    "from sklearn.svm import LinearSVC"
   ]
  },
  {
   "cell_type": "code",
   "execution_count": 276,
   "id": "e328a559-01f2-417b-a895-f71ed0fa88e7",
   "metadata": {},
   "outputs": [
    {
     "name": "stdout",
     "output_type": "stream",
     "text": [
      "Accuracy 0.9613165931455717\n",
      "F1-score [1.         0.91817216 0.93090909 0.97244094 0.98067633 0.96684492]\n",
      "                    precision    recall  f1-score   support\n",
      "\n",
      "            LAYING       1.00      1.00      1.00       537\n",
      "           SITTING       0.96      0.88      0.92       491\n",
      "          STANDING       0.90      0.96      0.93       532\n",
      "           WALKING       0.95      1.00      0.97       496\n",
      "WALKING_DOWNSTAIRS       1.00      0.97      0.98       420\n",
      "  WALKING_UPSTAIRS       0.97      0.96      0.97       471\n",
      "\n",
      "          accuracy                           0.96      2947\n",
      "         macro avg       0.96      0.96      0.96      2947\n",
      "      weighted avg       0.96      0.96      0.96      2947\n",
      "\n"
     ]
    }
   ],
   "source": [
    "clf = LinearSVC(C=0.01, random_state=42)\n",
    "clf.fit(X_train, y_train)\n",
    "\n",
    "y_pred = clf.predict(X_test)\n",
    "\n",
    "print('Accuracy %s' % accuracy_score(y_test, y_pred))\n",
    "print('F1-score %s' % f1_score(y_test, y_pred, average=None))\n",
    "print(classification_report(y_test, y_pred))"
   ]
  },
  {
   "cell_type": "code",
   "execution_count": 277,
   "id": "de6a9a29-f65f-4f5b-9f41-f505ad20690f",
   "metadata": {},
   "outputs": [
    {
     "data": {
      "text/plain": [
       "(7352, 185)"
      ]
     },
     "execution_count": 277,
     "metadata": {},
     "output_type": "execute_result"
    }
   ],
   "source": [
    "sel = SelectKBest(k=185)\n",
    "X_train_sel = sel.fit_transform(X_train, new_y_train)\n",
    "\n",
    "X_train_sel.shape"
   ]
  },
  {
   "cell_type": "code",
   "execution_count": 278,
   "id": "f4ba3281-200e-4261-9beb-081f45d9c7c5",
   "metadata": {},
   "outputs": [
    {
     "name": "stdout",
     "output_type": "stream",
     "text": [
      "Accuracy 0.9311163895486936\n",
      "F1-score [0.98199052 0.85491071 0.87285223 0.96015549 0.97460701 0.94907909]\n",
      "                    precision    recall  f1-score   support\n",
      "\n",
      "            LAYING       1.00      0.96      0.98       537\n",
      "           SITTING       0.95      0.78      0.85       491\n",
      "          STANDING       0.80      0.95      0.87       532\n",
      "           WALKING       0.93      1.00      0.96       496\n",
      "WALKING_DOWNSTAIRS       0.99      0.96      0.97       420\n",
      "  WALKING_UPSTAIRS       0.97      0.93      0.95       471\n",
      "\n",
      "          accuracy                           0.93      2947\n",
      "         macro avg       0.94      0.93      0.93      2947\n",
      "      weighted avg       0.94      0.93      0.93      2947\n",
      "\n"
     ]
    }
   ],
   "source": [
    "clf = LinearSVC(C=0.01, random_state=42)\n",
    "clf.fit(X_train_sel, y_train)\n",
    "\n",
    "X_test_sel = sel.transform(X_test)\n",
    "y_pred = clf.predict(X_test_sel)\n",
    "\n",
    "print('Accuracy %s' % accuracy_score(y_test, y_pred))\n",
    "print('F1-score %s' % f1_score(y_test, y_pred, average=None))\n",
    "print(classification_report(y_test, y_pred))"
   ]
  },
  {
   "cell_type": "markdown",
   "id": "5f06c92d-9554-46aa-b939-82f18fcd14ed",
   "metadata": {},
   "source": [
    "# Nonlinear SVM"
   ]
  },
  {
   "cell_type": "code",
   "execution_count": 279,
   "id": "f8c45e5d-4b11-40d6-9c1b-f6897c1d286d",
   "metadata": {},
   "outputs": [],
   "source": [
    "from sklearn.svm import SVC\n",
    "from sklearn.preprocessing import StandardScaler"
   ]
  },
  {
   "cell_type": "code",
   "execution_count": 280,
   "id": "d9d5200f-cdb2-4c94-9b21-5997d02fdf19",
   "metadata": {},
   "outputs": [
    {
     "name": "stdout",
     "output_type": "stream",
     "text": [
      "Accuracy 0.9307770614183916\n",
      "F1-score [1.         0.87983281 0.89604416 0.94455067 0.91560102 0.94092827]\n",
      "                    precision    recall  f1-score   support\n",
      "\n",
      "            LAYING       1.00      1.00      1.00       537\n",
      "           SITTING       0.90      0.86      0.88       491\n",
      "          STANDING       0.88      0.92      0.90       532\n",
      "           WALKING       0.90      1.00      0.94       496\n",
      "WALKING_DOWNSTAIRS       0.99      0.85      0.92       420\n",
      "  WALKING_UPSTAIRS       0.94      0.95      0.94       471\n",
      "\n",
      "          accuracy                           0.93      2947\n",
      "         macro avg       0.93      0.93      0.93      2947\n",
      "      weighted avg       0.93      0.93      0.93      2947\n",
      "\n"
     ]
    }
   ],
   "source": [
    "clf = SVC(gamma='auto')\n",
    "clf.fit(X_train, y_train)\n",
    "\n",
    "y_pred = clf.predict(X_test)\n",
    "\n",
    "print('Accuracy %s' % accuracy_score(y_test, y_pred))\n",
    "print('F1-score %s' % f1_score(y_test, y_pred, average=None))\n",
    "print(classification_report(y_test, y_pred))"
   ]
  },
  {
   "cell_type": "code",
   "execution_count": 281,
   "id": "3e0870eb-6a01-4a1c-a1b7-3b1a0523ec49",
   "metadata": {},
   "outputs": [
    {
     "data": {
      "text/plain": [
       "(7352, 185)"
      ]
     },
     "execution_count": 281,
     "metadata": {},
     "output_type": "execute_result"
    }
   ],
   "source": [
    "sel = SelectKBest(k=185)\n",
    "X_train_sel = sel.fit_transform(X_train, new_y_train)\n",
    "\n",
    "X_train_sel.shape"
   ]
  },
  {
   "cell_type": "code",
   "execution_count": 282,
   "id": "355deafe-9323-4d0e-b311-a8f444fc28db",
   "metadata": {},
   "outputs": [
    {
     "name": "stdout",
     "output_type": "stream",
     "text": [
      "Accuracy 0.9080420766881574\n",
      "F1-score [1.         0.78537736 0.84949833 0.94879227 0.93198992 0.92291447]\n",
      "                    precision    recall  f1-score   support\n",
      "\n",
      "            LAYING       1.00      1.00      1.00       537\n",
      "           SITTING       0.93      0.68      0.79       491\n",
      "          STANDING       0.77      0.95      0.85       532\n",
      "           WALKING       0.91      0.99      0.95       496\n",
      "WALKING_DOWNSTAIRS       0.99      0.88      0.93       420\n",
      "  WALKING_UPSTAIRS       0.92      0.93      0.92       471\n",
      "\n",
      "          accuracy                           0.91      2947\n",
      "         macro avg       0.92      0.91      0.91      2947\n",
      "      weighted avg       0.92      0.91      0.91      2947\n",
      "\n"
     ]
    }
   ],
   "source": [
    "clf = SVC(gamma='auto')\n",
    "clf.fit(X_train_sel, y_train)\n",
    "\n",
    "X_test_sel = sel.transform(X_test)\n",
    "y_pred = clf.predict(X_test_sel)\n",
    "\n",
    "print('Accuracy %s' % accuracy_score(y_test, y_pred))\n",
    "print('F1-score %s' % f1_score(y_test, y_pred, average=None))\n",
    "print(classification_report(y_test, y_pred))"
   ]
  },
  {
   "cell_type": "code",
   "execution_count": 283,
   "id": "5e7e0c02-1ad7-4ddb-94df-08eba369c1f2",
   "metadata": {},
   "outputs": [
    {
     "name": "stdout",
     "output_type": "stream",
     "text": [
      "Accuracy 0.843909060061079\n",
      "F1-score [1.         0.63724138 0.80212282 0.86849073 0.77761836 0.90274841]\n",
      "                    precision    recall  f1-score   support\n",
      "\n",
      "            LAYING       1.00      1.00      1.00       537\n",
      "           SITTING       0.99      0.47      0.64       491\n",
      "          STANDING       0.67      0.99      0.80       532\n",
      "           WALKING       0.77      0.99      0.87       496\n",
      "WALKING_DOWNSTAIRS       0.98      0.65      0.78       420\n",
      "  WALKING_UPSTAIRS       0.90      0.91      0.90       471\n",
      "\n",
      "          accuracy                           0.84      2947\n",
      "         macro avg       0.88      0.83      0.83      2947\n",
      "      weighted avg       0.88      0.84      0.83      2947\n",
      "\n"
     ]
    }
   ],
   "source": [
    "clf = SVC(gamma='auto', C=0.1, kernel='rbf', random_state=42)\n",
    "clf.fit(X_train, y_train)\n",
    "\n",
    "y_pred = clf.predict(X_test)\n",
    "\n",
    "print('Accuracy %s' % accuracy_score(y_test, y_pred))\n",
    "print('F1-score %s' % f1_score(y_test, y_pred, average=None))\n",
    "print(classification_report(y_test, y_pred))"
   ]
  },
  {
   "cell_type": "markdown",
   "id": "26556559-327e-443b-a496-43b36acfb73e",
   "metadata": {},
   "source": [
    "# Sklearn Multilayer Perceptron"
   ]
  },
  {
   "cell_type": "code",
   "execution_count": 284,
   "id": "80177066-e828-454c-b5ce-2e1941bf0394",
   "metadata": {},
   "outputs": [],
   "source": [
    "from sklearn.neural_network import MLPClassifier"
   ]
  },
  {
   "cell_type": "code",
   "execution_count": 285,
   "id": "57e3c120-2602-450a-aa08-76c0ab2ff82d",
   "metadata": {},
   "outputs": [],
   "source": [
    "hidden_layer_sizes = (100, 200,)"
   ]
  },
  {
   "cell_type": "code",
   "execution_count": 286,
   "id": "b088d2cb-4100-4c12-a98a-41949de18d89",
   "metadata": {},
   "outputs": [
    {
     "name": "stdout",
     "output_type": "stream",
     "text": [
      "Accuracy 0.9491007804546997\n",
      "F1-score [0.98583569 0.91675676 0.91968226 0.95914397 0.97218863 0.94360087]\n",
      "                    precision    recall  f1-score   support\n",
      "\n",
      "            LAYING       1.00      0.97      0.99       537\n",
      "           SITTING       0.98      0.86      0.92       491\n",
      "          STANDING       0.87      0.98      0.92       532\n",
      "           WALKING       0.93      0.99      0.96       496\n",
      "WALKING_DOWNSTAIRS       0.99      0.96      0.97       420\n",
      "  WALKING_UPSTAIRS       0.96      0.92      0.94       471\n",
      "\n",
      "          accuracy                           0.95      2947\n",
      "         macro avg       0.95      0.95      0.95      2947\n",
      "      weighted avg       0.95      0.95      0.95      2947\n",
      "\n"
     ]
    }
   ],
   "source": [
    "clf = MLPClassifier(random_state=0)\n",
    "\n",
    "clf.fit(X_train, y_train)\n",
    "\n",
    "y_pred = clf.predict(X_test)\n",
    "\n",
    "print('Accuracy %s' % accuracy_score(y_test, y_pred))\n",
    "print('F1-score %s' % f1_score(y_test, y_pred, average=None))\n",
    "print(classification_report(y_test, y_pred))"
   ]
  },
  {
   "cell_type": "code",
   "execution_count": 287,
   "id": "085db373-3195-48f9-81ed-36eade6778a2",
   "metadata": {},
   "outputs": [
    {
     "data": {
      "image/png": "[encoded data removed]",
      "text/plain": [
       "<Figure size 432x288 with 1 Axes>"
      ]
     },
     "metadata": {
      "needs_background": "light"
     },
     "output_type": "display_data"
    }
   ],
   "source": [
    "plt.plot(clf.loss_curve_)\n",
    "plt.show()"
   ]
  },
  {
   "cell_type": "code",
   "execution_count": 288,
   "id": "d1391851-c53f-4af4-b0dd-ba61eac34e05",
   "metadata": {},
   "outputs": [
    {
     "name": "stdout",
     "output_type": "stream",
     "text": [
      "Accuracy 0.9541907024092298\n",
      "F1-score [0.98870056 0.91578947 0.91945701 0.97148476 0.97073171 0.96170213]\n",
      "                    precision    recall  f1-score   support\n",
      "\n",
      "            LAYING       1.00      0.98      0.99       537\n",
      "           SITTING       0.95      0.89      0.92       491\n",
      "          STANDING       0.89      0.95      0.92       532\n",
      "           WALKING       0.95      1.00      0.97       496\n",
      "WALKING_DOWNSTAIRS       0.99      0.95      0.97       420\n",
      "  WALKING_UPSTAIRS       0.96      0.96      0.96       471\n",
      "\n",
      "          accuracy                           0.95      2947\n",
      "         macro avg       0.96      0.95      0.95      2947\n",
      "      weighted avg       0.96      0.95      0.95      2947\n",
      "\n"
     ]
    }
   ],
   "source": [
    "clf = MLPClassifier(hidden_layer_sizes=(128, 64, 32,), alpha=0.1, learning_rate='adaptive', \n",
    "                    activation='tanh', early_stopping=False, momentum=0.9, random_state=0)\n",
    "\n",
    "clf.fit(X_train, y_train)\n",
    "\n",
    "y_pred = clf.predict(X_test)\n",
    "\n",
    "print('Accuracy %s' % accuracy_score(y_test, y_pred))\n",
    "print('F1-score %s' % f1_score(y_test, y_pred, average=None))\n",
    "print(classification_report(y_test, y_pred))"
   ]
  },
  {
   "cell_type": "code",
   "execution_count": 289,
   "id": "e3f0b9af-43c5-4668-aef6-938e4a5e86c6",
   "metadata": {},
   "outputs": [
    {
     "data": {
      "image/png": "[encoded data removed]",
      "text/plain": [
       "<Figure size 432x288 with 1 Axes>"
      ]
     },
     "metadata": {
      "needs_background": "light"
     },
     "output_type": "display_data"
    }
   ],
   "source": [
    "plt.plot(clf.loss_curve_)\n",
    "plt.show()"
   ]
  },
  {
   "cell_type": "markdown",
   "id": "bcb6cbb9-ddf0-4e3b-862d-00673729fed0",
   "metadata": {},
   "source": [
    "# Keras Deep Neural Networks"
   ]
  },
  {
   "cell_type": "code",
   "execution_count": 290,
   "id": "3e5d40d6-b341-449f-91d2-c0d9d73b3177",
   "metadata": {},
   "outputs": [],
   "source": [
    "# use old pc or fix\n",
    "\n",
    "from keras.models import Sequential\n",
    "from keras.layers import Dense"
   ]
  },
  {
   "cell_type": "code",
   "execution_count": 291,
   "id": "c43ea577-a886-4821-b7fc-0dd6a095ed6a",
   "metadata": {},
   "outputs": [],
   "source": [
    "def build_model():\n",
    "    \n",
    "    n_feature = X_train.shape[1]\n",
    "    model = Sequential()\n",
    "    model.add(Dense(128, input_dim=n_feature, activation='relu'))\n",
    "    model.add(Dense(64, activation='relu'))\n",
    "    model.add(Dense(1, activation='sigmoid'))\n",
    "\n",
    "    model.compile(loss='binary_crossentropy', optimizer='adam', metrics=['accuracy'])\n",
    "    return model"
   ]
  },
  {
   "cell_type": "code",
   "execution_count": null,
   "id": "a0d03ee4-aabc-437a-88c4-4cf4252aa0b6",
   "metadata": {},
   "outputs": [],
   "source": [
    "new_y_test = y_test.replace({\"WALKING\": 1, \"WALKING_UPSTAIRS\": 2, \"WALKING_DOWNSTAIRS\": 3, \"LAYING\": 6, \"SITTING\": 4, \"STANDING\": 5})\n",
    "new_y_train = y_train.replace({\"WALKING\": 1, \"WALKING_UPSTAIRS\": 2, \"WALKING_DOWNSTAIRS\": 3, \"LAYING\": 6, \"SITTING\": 4, \"STANDING\": 5})\n",
    "\n",
    "model1 = build_model()\n",
    "\n",
    "history1 = model1.fit(X_train, new_y_train, epochs=50, batch_size=10).history"
   ]
  },
  {
   "cell_type": "code",
   "execution_count": null,
   "id": "98b9c51f-7e1b-4b12-aa53-eb92a0b8d6aa",
   "metadata": {},
   "outputs": [],
   "source": [
    "model2 = build_model()\n",
    "\n",
    "history2 = model2.fit(X_train, new_y_train, epochs=50, batch_size=50).history"
   ]
  },
  {
   "cell_type": "code",
   "execution_count": null,
   "id": "5fbe52d3-e98b-4462-bb14-5143dda3007f",
   "metadata": {},
   "outputs": [],
   "source": [
    "plt.plot(history1['loss'], label='Loss 10')\n",
    "plt.plot(history2['loss'], label='Loss 50')\n",
    "plt.xlabel('Epochs')\n",
    "plt.ylabel('Cross-Entropy')\n",
    "plt.legend()\n",
    "plt.show()"
   ]
  },
  {
   "cell_type": "code",
   "execution_count": null,
   "id": "3c268176-310c-446d-9eb2-2b3788213b02",
   "metadata": {},
   "outputs": [],
   "source": [
    "test_loss_1, test_acc_1 = model1.evaluate(X_test, new_y_test)\n",
    "test_loss_2, test_acc_2 = model2.evaluate(X_test, new_y_test)\n",
    "\n",
    "print('Loss %f, Accuracy %f' % (test_loss_1, test_acc_1))\n",
    "print('Loss %f, Accuracy %f' % (test_loss_2, test_acc_2))"
   ]
  },
  {
   "cell_type": "code",
   "execution_count": null,
   "id": "36846f42-3845-4b24-a10d-b60448ca1aec",
   "metadata": {},
   "outputs": [],
   "source": [
    "y_pred = model1.predict(X_test).astype(int)\n",
    "\n",
    "print('Accuracy %s' % accuracy_score(new_y_test, y_pred))\n",
    "print('F1-score %s' % f1_score(new_y_test, y_pred, average=None))\n",
    "print(classification_report(new_y_test, y_pred))"
   ]
  },
  {
   "cell_type": "code",
   "execution_count": null,
   "id": "98e3c327-130b-495c-8c64-4df59c6ed2a1",
   "metadata": {},
   "outputs": [],
   "source": [
    "model3 = build_model()\n",
    "\n",
    "history3 = model3.fit(X_train, new_y_train, validation_data=(X_test, new_y_test), epochs=1000, batch_size=10).history"
   ]
  },
  {
   "cell_type": "code",
   "execution_count": null,
   "id": "c210ec43-40da-4506-b7b9-d2def908dbac",
   "metadata": {},
   "outputs": [],
   "source": [
    "test_loss_3, test_acc_3 = model3.evaluate(X_test, new_y_test)\n",
    "\n",
    "print('Loss %f, Accuracy %f' % (test_loss_1, test_acc_1))\n",
    "print('Loss %f, Accuracy %f' % (test_loss_2, test_acc_2))\n",
    "print('Loss %f, Accuracy %f' % (test_loss_3, test_acc_3))"
   ]
  },
  {
   "cell_type": "code",
   "execution_count": null,
   "id": "034d3c89-5154-46ab-b0c0-f630ef2dcb3e",
   "metadata": {},
   "outputs": [],
   "source": [
    "plt.plot(history3['loss'], label='Train')\n",
    "plt.plot(history3['val_loss'], label='Val')\n",
    "plt.xlabel('Epochs')\n",
    "plt.ylabel('Cross-Entropy')\n",
    "plt.legend()\n",
    "plt.show()"
   ]
  },
  {
   "cell_type": "markdown",
   "id": "1daea652-a728-47f9-aa31-19fd7b8fca9f",
   "metadata": {},
   "source": [
    "## Early Stopping"
   ]
  },
  {
   "cell_type": "code",
   "execution_count": 307,
   "id": "efa94c51-1d03-4a6b-b5e0-a69249876a60",
   "metadata": {
    "tags": []
   },
   "outputs": [],
   "source": [
    "from keras.callbacks import EarlyStopping, ModelCheckpoint\n",
    "from sklearn.model_selection import train_test_split, cross_val_score "
   ]
  },
  {
   "cell_type": "code",
   "execution_count": 308,
   "id": "9998b749-ddc9-4ebf-9d70-55068e41c2c5",
   "metadata": {},
   "outputs": [],
   "source": [
    "new_y_test = y_test.replace({\"WALKING\": 1, \"WALKING_UPSTAIRS\": 2, \"WALKING_DOWNSTAIRS\": 3, \"LAYING\": 6, \"SITTING\": 4, \"STANDING\": 5})\n",
    "new_y_train = y_train.replace({\"WALKING\": 1, \"WALKING_UPSTAIRS\": 2, \"WALKING_DOWNSTAIRS\": 3, \"LAYING\": 6, \"SITTING\": 4, \"STANDING\": 5})"
   ]
  },
  {
   "cell_type": "code",
   "execution_count": 309,
   "id": "799ecea9-109d-43b5-b340-392a9cd5c725",
   "metadata": {},
   "outputs": [],
   "source": [
    "X_X_train, X_val, y_y_train, y_val = train_test_split(X_train, new_y_train, test_size=0.2)"
   ]
  },
  {
   "cell_type": "code",
   "execution_count": null,
   "id": "6f3f2db5-8621-4f65-a477-8efa0f13fda7",
   "metadata": {},
   "outputs": [],
   "source": [
    "new_y_test = y_test.replace({\"WALKING\": 1, \"WALKING_UPSTAIRS\": 2, \"WALKING_DOWNSTAIRS\": 3, \"LAYING\": 6, \"SITTING\": 4, \"STANDING\": 5})\n",
    "new_y_train = y_train.replace({\"WALKING\": 1, \"WALKING_UPSTAIRS\": 2, \"WALKING_DOWNSTAIRS\": 3, \"LAYING\": 6, \"SITTING\": 4, \"STANDING\": 5})\n",
    "es = EarlyStopping(monitor='val_loss', patience=10)\n",
    "mc = ModelCheckpoint('best_model_NOREG.h5', monitor='val_loss', save_best_only=True)\n",
    "\n",
    "model4 = build_model()\n",
    "history4 = model4.fit(X_X_train, y_y_train, validation_data=(X_val, y_val), epochs=100, \n",
    "                      batch_size=10, callbacks=[es,mc]).history"
   ]
  },
  {
   "cell_type": "code",
   "execution_count": null,
   "id": "5ddae78d-20cb-4ba6-ab43-ee4ca8d6ec90",
   "metadata": {},
   "outputs": [],
   "source": [
    "test_loss_4, test_acc_4 = model4.evaluate(X_test, new_y_test)\n",
    "\n",
    "print('Loss %f, Accuracy %f' % (test_loss_1, test_acc_1))\n",
    "print('Loss %f, Accuracy %f' % (test_loss_2, test_acc_2))\n",
    "#print('Loss %f, Accuracy %f' % (test_loss_3, test_acc_3))\n",
    "print('Loss %f, Accuracy %f' % (test_loss_4, test_acc_4))"
   ]
  },
  {
   "cell_type": "markdown",
   "id": "6761e65d-3af3-40df-aa81-28e8bbcef590",
   "metadata": {},
   "source": [
    "## L2 Regularization"
   ]
  },
  {
   "cell_type": "code",
   "execution_count": 311,
   "id": "35e800a9-1060-4641-9910-e1ee8428ba44",
   "metadata": {
    "tags": []
   },
   "outputs": [],
   "source": [
    "from keras.regularizers import l2\n",
    "\n",
    "def build_L2_model():\n",
    "    # define the model\n",
    "    model = Sequential()\n",
    "\n",
    "    n_feature = X_train.shape[1]\n",
    "    h_dim=100\n",
    "    model.add(Dense(h_dim, activation='relu', input_shape=(n_feature,), kernel_regularizer=l2(0.01)))\n",
    "    model.add(Dense(h_dim, activation='relu', kernel_regularizer=l2(0.01)))\n",
    "    model.add(Dense(h_dim, activation='relu', kernel_regularizer=l2(0.01)))\n",
    "    model.add(Dense(h_dim, activation='relu', kernel_regularizer=l2(0.01)))\n",
    "    #linear activation\n",
    "    model.add(Dense(1))\n",
    "\n",
    "    #compile the model\n",
    "    model.compile(loss='binary_crossentropy', optimizer='adam', metrics=['accuracy'])\n",
    "    \n",
    "    return model"
   ]
  },
  {
   "cell_type": "code",
   "execution_count": null,
   "id": "90480af3-2a53-4e9f-8133-fdc41649301f",
   "metadata": {},
   "outputs": [],
   "source": [
    "mc = ModelCheckpoint('best_model_L2.h5', monitor='val_loss', save_best_only=True)\n",
    "\n",
    "L2_model = build_L2_model()\n",
    "h_L2 = L2_model.fit(X_train, new_y_train, validation_data=(X_val, y_val), epochs=100, \n",
    "                    batch_size=10, callbacks=[es,mc]).history"
   ]
  },
  {
   "cell_type": "code",
   "execution_count": 313,
   "id": "baeb3f4f-73a6-432a-93d8-c7d67f5b7d26",
   "metadata": {},
   "outputs": [],
   "source": [
    "from keras.layers import Dropout\n",
    "\n",
    "def build_DROPOUT_model():\n",
    "    # define the model\n",
    "    model = Sequential()\n",
    "\n",
    "    n_feature = X_train.shape[1]\n",
    "    h_dim=100\n",
    "    model.add(Dense(h_dim, activation='relu', input_shape=(n_feature,)))\n",
    "    model.add(Dropout(0.2))\n",
    "    model.add(Dense(h_dim, activation='relu'))\n",
    "    model.add(Dropout(0.2))\n",
    "    model.add(Dense(h_dim, activation='relu'))\n",
    "    model.add(Dropout(0.2))\n",
    "    model.add(Dense(h_dim, activation='relu'))\n",
    "    #linear activation\n",
    "    model.add(Dense(1))\n",
    "\n",
    "    #compile the model\n",
    "    model.compile(loss='binary_crossentropy', optimizer='adam', metrics=['accuracy'])\n",
    "    \n",
    "    return model"
   ]
  },
  {
   "cell_type": "code",
   "execution_count": null,
   "id": "f9d87b62-fc05-48f4-8393-b893cfa4c05d",
   "metadata": {},
   "outputs": [],
   "source": [
    "mc = ModelCheckpoint('best_model_DROPOUT.h5', monitor='val_loss', save_best_only=True)\n",
    "\n",
    "DROPOUT_model = build_DROPOUT_model()\n",
    "h_DROPOUT = DROPOUT_model.fit(X_train, new_y_train, validation_data=(X_val, y_val), \n",
    "                              epochs=100, batch_size=10, callbacks=[es,mc]).history"
   ]
  },
  {
   "cell_type": "code",
   "execution_count": null,
   "id": "bc616541-e400-4bea-ba1a-abe1f1e5e43a",
   "metadata": {},
   "outputs": [],
   "source": [
    "# laod best models and test them\n",
    "from keras.models import load_model\n",
    "\n",
    "best_NOREG_model = load_model('best_model_NOREG.h5')\n",
    "best_L2_model = load_model('best_model_L2.h5')\n",
    "best_DROPOUT_model = load_model('best_model_DROPOUT.h5')\n",
    "\n",
    "loss_NOREG, acc_NOREG = best_NOREG_model.evaluate(X_test, new_y_test)\n",
    "loss_L2, acc_L2 = best_L2_model.evaluate(X_test, new_y_test)\n",
    "loss_DROPOUT, acc_DROPOUT = best_DROPOUT_model.evaluate(X_test, new_y_test)"
   ]
  },
  {
   "cell_type": "code",
   "execution_count": null,
   "id": "b7841754-f6e8-4718-a086-e326cf2f9015",
   "metadata": {},
   "outputs": [],
   "source": [
    "print('Loss %f, Accuracy %f' % (loss_NOREG, acc_NOREG))\n",
    "print('Loss %f, Accuracy %f' % (loss_L2, acc_L2))\n",
    "print('Loss %f, Accuracy %f' % (loss_DROPOUT, acc_DROPOUT))"
   ]
  },
  {
   "cell_type": "markdown",
   "id": "0581904f-92a3-43c5-bca7-ccbe70c0722b",
   "metadata": {},
   "source": [
    "## Hyper-Parameter Tuning"
   ]
  },
  {
   "cell_type": "code",
   "execution_count": 315,
   "id": "df9f2875-4e53-47d8-bc94-f449e50f309b",
   "metadata": {},
   "outputs": [],
   "source": [
    "from keras.wrappers.scikit_learn import KerasClassifier\n",
    "from sklearn.model_selection import RandomizedSearchCV"
   ]
  },
  {
   "cell_type": "code",
   "execution_count": 316,
   "id": "f68061c0-769b-41e4-b6ea-a6a68a9564b6",
   "metadata": {},
   "outputs": [],
   "source": [
    "def build_model(n_layers=2, h_dim=64, activation='relu', optimizer='adam'):\n",
    "    # define the model\n",
    "    model = Sequential()\n",
    "\n",
    "    n_feature = X_train.shape[1]\n",
    "    \n",
    "    model.add(Dense(h_dim, activation=activation, input_shape=(n_feature,)))\n",
    "    for i in range(n_layers-1):\n",
    "        model.add(Dense(h_dim, activation=activation))\n",
    "    #linear activation\n",
    "    model.add(Dense(1))\n",
    "\n",
    "    #compile the model\n",
    "    model.compile(loss='binary_crossentropy', optimizer=optimizer, metrics=['accuracy'])\n",
    "    \n",
    "    return model"
   ]
  },
  {
   "cell_type": "code",
   "execution_count": 317,
   "id": "6fae1522-7b2d-4905-9b1b-e175295c7359",
   "metadata": {},
   "outputs": [],
   "source": [
    "n_layers = [1, 2, 3]\n",
    "h_dim = [32, 64, 128]\n",
    "activation = ['relu', 'tanh']\n",
    "optimizer = ['adagrad', 'adam']\n",
    "params = dict(optimizer=optimizer, n_layers=n_layers, h_dim=h_dim, activation=activation)"
   ]
  },
  {
   "cell_type": "code",
   "execution_count": null,
   "id": "6f14d016-6ea3-47bb-96f4-d5f2ff8c219e",
   "metadata": {},
   "outputs": [],
   "source": [
    "model = KerasClassifier(build_fn=build_model)\n",
    "\n",
    "rnd = RandomizedSearchCV(estimator=model, param_distributions=params, n_iter=5, cv=3)\n",
    "rnd_result = rnd.fit(X_train, new_y_train, epochs=100, batch_size=10, verbose=0)"
   ]
  },
  {
   "cell_type": "code",
   "execution_count": null,
   "id": "f7aa3093-ec6c-4841-b4af-ff83705793d9",
   "metadata": {},
   "outputs": [],
   "source": [
    "print(\"Best: %f using %s\" % (-rnd_result.best_score_, rnd_result.best_params_))\n",
    "means = rnd_result.cv_results_['mean_test_score']\n",
    "stds = rnd_result.cv_results_['std_test_score']\n",
    "params = rnd_result.cv_results_['params']\n",
    "for mean, stdev, param in zip(means, stds, params):\n",
    "    print(\"%f (%f) with: %r\" % (-mean, stdev, param))"
   ]
  },
  {
   "cell_type": "code",
   "execution_count": null,
   "id": "5996e7ba-7aee-49e5-9b45-6fa7e6a50c5f",
   "metadata": {},
   "outputs": [],
   "source": [
    "clf = rnd_result.best_estimator_.model\n",
    "\n",
    "loss, acc = clf.evaluate(X_test, y_test)\n",
    "print('Loss %f, Accuracy %f' % (loss, acc))"
   ]
  },
  {
   "cell_type": "markdown",
   "id": "84c92613-11b3-469b-b26b-14c01c144e88",
   "metadata": {},
   "source": [
    "# Ensemble"
   ]
  },
  {
   "cell_type": "markdown",
   "id": "cc196b6a-0721-4c95-8405-87dc18abcbbd",
   "metadata": {},
   "source": [
    "## Random Forest"
   ]
  },
  {
   "cell_type": "code",
   "execution_count": 301,
   "id": "ffcafb2f-c2bb-4864-b061-fc577794ef7a",
   "metadata": {},
   "outputs": [],
   "source": [
    "from sklearn.ensemble import RandomForestClassifier"
   ]
  },
  {
   "cell_type": "code",
   "execution_count": 302,
   "id": "5dfbd50e-d119-466e-a21c-dc9e1572d182",
   "metadata": {},
   "outputs": [
    {
     "name": "stdout",
     "output_type": "stream",
     "text": [
      "Accuracy 0.9250084832032576\n",
      "F1-score [1.         0.89533679 0.90656799 0.93621197 0.89707751 0.90289256]\n",
      "                    precision    recall  f1-score   support\n",
      "\n",
      "            LAYING       1.00      1.00      1.00       537\n",
      "           SITTING       0.91      0.88      0.90       491\n",
      "          STANDING       0.89      0.92      0.91       532\n",
      "           WALKING       0.91      0.96      0.94       496\n",
      "WALKING_DOWNSTAIRS       0.96      0.84      0.90       420\n",
      "  WALKING_UPSTAIRS       0.88      0.93      0.90       471\n",
      "\n",
      "          accuracy                           0.93      2947\n",
      "         macro avg       0.93      0.92      0.92      2947\n",
      "      weighted avg       0.93      0.93      0.92      2947\n",
      "\n"
     ]
    }
   ],
   "source": [
    "clf = RandomForestClassifier(n_estimators=100, criterion='gini', max_depth=None, min_samples_split=2, \n",
    "                             min_samples_leaf=1, min_weight_fraction_leaf=0.0, max_features='auto', random_state=0)\n",
    "clf.fit(X_train, y_train)\n",
    "\n",
    "y_pred = clf.predict(X_test)\n",
    "\n",
    "print('Accuracy %s' % accuracy_score(y_test, y_pred))\n",
    "print('F1-score %s' % f1_score(y_test, y_pred, average=None))\n",
    "print(classification_report(y_test, y_pred))"
   ]
  },
  {
   "cell_type": "code",
   "execution_count": 303,
   "id": "fd4b025b-a026-4b33-b1eb-899b3a8b5433",
   "metadata": {},
   "outputs": [
    {
     "data": {
      "text/plain": [
       "{'LAYING': {'precision': 1.0, 'recall': 1.0, 'f1-score': 1.0, 'support': 537},\n",
       " 'SITTING': {'precision': 0.9113924050632911,\n",
       "  'recall': 0.879837067209776,\n",
       "  'f1-score': 0.8953367875647669,\n",
       "  'support': 491},\n",
       " 'STANDING': {'precision': 0.8925318761384335,\n",
       "  'recall': 0.9210526315789473,\n",
       "  'f1-score': 0.9065679925994449,\n",
       "  'support': 532},\n",
       " 'WALKING': {'precision': 0.9120458891013384,\n",
       "  'recall': 0.9616935483870968,\n",
       "  'f1-score': 0.9362119725220803,\n",
       "  'support': 496},\n",
       " 'WALKING_DOWNSTAIRS': {'precision': 0.9618528610354223,\n",
       "  'recall': 0.8404761904761905,\n",
       "  'f1-score': 0.8970775095298603,\n",
       "  'support': 420},\n",
       " 'WALKING_UPSTAIRS': {'precision': 0.8792756539235412,\n",
       "  'recall': 0.9278131634819533,\n",
       "  'f1-score': 0.902892561983471,\n",
       "  'support': 471},\n",
       " 'accuracy': 0.9250084832032576,\n",
       " 'macro avg': {'precision': 0.9261831142103376,\n",
       "  'recall': 0.9218121001889941,\n",
       "  'f1-score': 0.9230144706999371,\n",
       "  'support': 2947},\n",
       " 'weighted avg': {'precision': 0.9263021461210899,\n",
       "  'recall': 0.9250084832032576,\n",
       "  'f1-score': 0.9247711651933875,\n",
       "  'support': 2947}}"
      ]
     },
     "execution_count": 303,
     "metadata": {},
     "output_type": "execute_result"
    }
   ],
   "source": [
    "classification_report(y_test, y_pred, output_dict=True)"
   ]
  },
  {
   "cell_type": "code",
   "execution_count": 304,
   "id": "a014db9b-e47c-4572-95fa-b0210715bb3e",
   "metadata": {},
   "outputs": [
    {
     "data": {
      "text/plain": [
       "'{\"LAYING\": {\"precision\": 1.0, \"recall\": 1.0, \"f1-score\": 1.0, \"support\": 537}, \"SITTING\": {\"precision\": 0.9113924050632911, \"recall\": 0.879837067209776, \"f1-score\": 0.8953367875647669, \"support\": 491}, \"STANDING\": {\"precision\": 0.8925318761384335, \"recall\": 0.9210526315789473, \"f1-score\": 0.9065679925994449, \"support\": 532}, \"WALKING\": {\"precision\": 0.9120458891013384, \"recall\": 0.9616935483870968, \"f1-score\": 0.9362119725220803, \"support\": 496}, \"WALKING_DOWNSTAIRS\": {\"precision\": 0.9618528610354223, \"recall\": 0.8404761904761905, \"f1-score\": 0.8970775095298603, \"support\": 420}, \"WALKING_UPSTAIRS\": {\"precision\": 0.8792756539235412, \"recall\": 0.9278131634819533, \"f1-score\": 0.902892561983471, \"support\": 471}, \"accuracy\": 0.9250084832032576, \"macro avg\": {\"precision\": 0.9261831142103376, \"recall\": 0.9218121001889941, \"f1-score\": 0.9230144706999371, \"support\": 2947}, \"weighted avg\": {\"precision\": 0.9263021461210899, \"recall\": 0.9250084832032576, \"f1-score\": 0.9247711651933875, \"support\": 2947}}'"
      ]
     },
     "execution_count": 304,
     "metadata": {},
     "output_type": "execute_result"
    }
   ],
   "source": [
    "import json\n",
    "json.dumps(classification_report(y_test, y_pred, output_dict=True))"
   ]
  },
  {
   "cell_type": "code",
   "execution_count": 305,
   "id": "1b339907-7fa4-4fee-9090-ad6c69ee475d",
   "metadata": {},
   "outputs": [
    {
     "data": {
      "text/plain": [
       "{'LAYING': {'precision': 1.0, 'recall': 1.0, 'f1-score': 1.0, 'support': 537},\n",
       " 'SITTING': {'precision': 0.9113924050632911,\n",
       "  'recall': 0.879837067209776,\n",
       "  'f1-score': 0.8953367875647669,\n",
       "  'support': 491},\n",
       " 'STANDING': {'precision': 0.8925318761384335,\n",
       "  'recall': 0.9210526315789473,\n",
       "  'f1-score': 0.9065679925994449,\n",
       "  'support': 532},\n",
       " 'WALKING': {'precision': 0.9120458891013384,\n",
       "  'recall': 0.9616935483870968,\n",
       "  'f1-score': 0.9362119725220803,\n",
       "  'support': 496},\n",
       " 'WALKING_DOWNSTAIRS': {'precision': 0.9618528610354223,\n",
       "  'recall': 0.8404761904761905,\n",
       "  'f1-score': 0.8970775095298603,\n",
       "  'support': 420},\n",
       " 'WALKING_UPSTAIRS': {'precision': 0.8792756539235412,\n",
       "  'recall': 0.9278131634819533,\n",
       "  'f1-score': 0.902892561983471,\n",
       "  'support': 471},\n",
       " 'accuracy': 0.9250084832032576,\n",
       " 'macro avg': {'precision': 0.9261831142103376,\n",
       "  'recall': 0.9218121001889941,\n",
       "  'f1-score': 0.9230144706999371,\n",
       "  'support': 2947},\n",
       " 'weighted avg': {'precision': 0.9263021461210899,\n",
       "  'recall': 0.9250084832032576,\n",
       "  'f1-score': 0.9247711651933875,\n",
       "  'support': 2947}}"
      ]
     },
     "execution_count": 305,
     "metadata": {},
     "output_type": "execute_result"
    }
   ],
   "source": [
    "json.loads(json.dumps(classification_report(y_test, y_pred, output_dict=True)))"
   ]
  },
  {
   "cell_type": "code",
   "execution_count": 306,
   "id": "3c8c3e8a-accf-4a09-9479-be1d9aa05202",
   "metadata": {},
   "outputs": [
    {
     "ename": "AttributeError",
     "evalue": "'numpy.ndarray' object has no attribute 'feature_names'",
     "output_type": "error",
     "traceback": [
      "\u001b[1;31m---------------------------------------------------------------------------\u001b[0m",
      "\u001b[1;31mAttributeError\u001b[0m                            Traceback (most recent call last)",
      "\u001b[1;32m<ipython-input-306-47429dd7dc32>\u001b[0m in \u001b[0;36m<module>\u001b[1;34m\u001b[0m\n\u001b[0;32m      7\u001b[0m \u001b[0mfig\u001b[0m\u001b[1;33m,\u001b[0m \u001b[0max\u001b[0m \u001b[1;33m=\u001b[0m \u001b[0mplt\u001b[0m\u001b[1;33m.\u001b[0m\u001b[0msubplots\u001b[0m\u001b[1;33m(\u001b[0m\u001b[1;33m)\u001b[0m\u001b[1;33m\u001b[0m\u001b[1;33m\u001b[0m\u001b[0m\n\u001b[0;32m      8\u001b[0m \u001b[0mplt\u001b[0m\u001b[1;33m.\u001b[0m\u001b[0mbarh\u001b[0m\u001b[1;33m(\u001b[0m\u001b[0my_ticks\u001b[0m\u001b[1;33m,\u001b[0m \u001b[0mtree_feature_importances\u001b[0m\u001b[1;33m[\u001b[0m\u001b[0msorted_idx\u001b[0m\u001b[1;33m]\u001b[0m\u001b[1;33m)\u001b[0m\u001b[1;33m\u001b[0m\u001b[1;33m\u001b[0m\u001b[0m\n\u001b[1;32m----> 9\u001b[1;33m \u001b[0mplt\u001b[0m\u001b[1;33m.\u001b[0m\u001b[0myticks\u001b[0m\u001b[1;33m(\u001b[0m\u001b[0my_ticks\u001b[0m\u001b[1;33m,\u001b[0m \u001b[0mnp\u001b[0m\u001b[1;33m.\u001b[0m\u001b[0marray\u001b[0m\u001b[1;33m(\u001b[0m\u001b[0mX_train\u001b[0m\u001b[1;33m.\u001b[0m\u001b[0mfeature_names\u001b[0m\u001b[1;33m)\u001b[0m\u001b[1;33m[\u001b[0m\u001b[0msorted_idx\u001b[0m\u001b[1;33m]\u001b[0m\u001b[1;33m)\u001b[0m\u001b[1;33m\u001b[0m\u001b[1;33m\u001b[0m\u001b[0m\n\u001b[0m\u001b[0;32m     10\u001b[0m \u001b[0mplt\u001b[0m\u001b[1;33m.\u001b[0m\u001b[0mtitle\u001b[0m\u001b[1;33m(\u001b[0m\u001b[1;34m\"Random Forest Feature Importances (MDI)\"\u001b[0m\u001b[1;33m)\u001b[0m\u001b[1;33m\u001b[0m\u001b[1;33m\u001b[0m\u001b[0m\n\u001b[0;32m     11\u001b[0m \u001b[0mplt\u001b[0m\u001b[1;33m.\u001b[0m\u001b[0mshow\u001b[0m\u001b[1;33m(\u001b[0m\u001b[1;33m)\u001b[0m\u001b[1;33m\u001b[0m\u001b[1;33m\u001b[0m\u001b[0m\n",
      "\u001b[1;31mAttributeError\u001b[0m: 'numpy.ndarray' object has no attribute 'feature_names'"
     ]
    },
    {
     "data": {
      "image/png": "[encoded data removed]",
      "text/plain": [
       "<Figure size 432x288 with 1 Axes>"
      ]
     },
     "metadata": {
      "needs_background": "light"
     },
     "output_type": "display_data"
    }
   ],
   "source": [
    "nbr_features = 15\n",
    "\n",
    "tree_feature_importances = clf.feature_importances_\n",
    "sorted_idx = tree_feature_importances.argsort()[-nbr_features:]\n",
    "\n",
    "y_ticks = np.arange(0, len(sorted_idx))\n",
    "fig, ax = plt.subplots()\n",
    "plt.barh(y_ticks, tree_feature_importances[sorted_idx])\n",
    "plt.yticks(y_ticks, np.array(X_train.feature_names)[sorted_idx])\n",
    "plt.title(\"Random Forest Feature Importances (MDI)\")\n",
    "plt.show()"
   ]
  },
  {
   "cell_type": "code",
   "execution_count": 319,
   "id": "05574c81-80de-4fb8-b535-2bc9ad96c120",
   "metadata": {},
   "outputs": [],
   "source": [
    "from sklearn.inspection import permutation_importance"
   ]
  },
  {
   "cell_type": "code",
   "execution_count": null,
   "id": "bcc812d8-4391-433a-98d2-ba41d039dcad",
   "metadata": {
    "tags": []
   },
   "outputs": [],
   "source": [
    "result = permutation_importance(clf, X_test, y_test, n_repeats=10, random_state=42, n_jobs=2)"
   ]
  },
  {
   "cell_type": "code",
   "execution_count": null,
   "id": "c16b61cb-95fb-4b11-899f-2007d9fde97f",
   "metadata": {},
   "outputs": [],
   "source": [
    "sorted_idx = result.importances_mean.argsort()[-nbr_features:]\n",
    "\n",
    "fig, ax = plt.subplots()\n",
    "plt.boxplot(result.importances[sorted_idx].T, vert=False, labels=np.array(frame.feature_names)[sorted_idx])\n",
    "plt.title(\"Permutation Importances (test set)\")\n",
    "plt.tight_layout()\n",
    "plt.show()"
   ]
  },
  {
   "cell_type": "code",
   "execution_count": 321,
   "id": "eba9c47a-d7d1-4926-92fc-594deffba1f0",
   "metadata": {},
   "outputs": [],
   "source": [
    "import pydotplus\n",
    "from sklearn import tree\n",
    "from IPython.display import Image"
   ]
  },
  {
   "cell_type": "code",
   "execution_count": 322,
   "id": "4ecbd6d0-a667-4e11-94f4-0538daee4f35",
   "metadata": {},
   "outputs": [
    {
     "ename": "NameError",
     "evalue": "name 'frame' is not defined",
     "output_type": "error",
     "traceback": [
      "\u001b[1;31m---------------------------------------------------------------------------\u001b[0m",
      "\u001b[1;31mNameError\u001b[0m                                 Traceback (most recent call last)",
      "\u001b[1;32m<ipython-input-322-fbc0e5cc882c>\u001b[0m in \u001b[0;36m<module>\u001b[1;34m\u001b[0m\n\u001b[0;32m      1\u001b[0m dot_data = tree.export_graphviz(clf.estimators_[1], out_file=None,  \n\u001b[1;32m----> 2\u001b[1;33m                                 \u001b[0mfeature_names\u001b[0m\u001b[1;33m=\u001b[0m\u001b[0mframe\u001b[0m\u001b[1;33m.\u001b[0m\u001b[0mfeature_names\u001b[0m\u001b[1;33m,\u001b[0m\u001b[1;33m\u001b[0m\u001b[1;33m\u001b[0m\u001b[0m\n\u001b[0m\u001b[0;32m      3\u001b[0m                                 \u001b[0mclass_names\u001b[0m\u001b[1;33m=\u001b[0m\u001b[1;33m[\u001b[0m\u001b[1;34m'stay'\u001b[0m\u001b[1;33m,\u001b[0m \u001b[1;34m'churn'\u001b[0m\u001b[1;33m]\u001b[0m\u001b[1;33m,\u001b[0m\u001b[1;33m\u001b[0m\u001b[1;33m\u001b[0m\u001b[0m\n\u001b[0;32m      4\u001b[0m                                 \u001b[0mfilled\u001b[0m\u001b[1;33m=\u001b[0m\u001b[1;32mTrue\u001b[0m\u001b[1;33m,\u001b[0m \u001b[0mrounded\u001b[0m\u001b[1;33m=\u001b[0m\u001b[1;32mTrue\u001b[0m\u001b[1;33m,\u001b[0m\u001b[1;33m\u001b[0m\u001b[1;33m\u001b[0m\u001b[0m\n\u001b[0;32m      5\u001b[0m                                 special_characters=True, max_depth=4)  \n",
      "\u001b[1;31mNameError\u001b[0m: name 'frame' is not defined"
     ]
    }
   ],
   "source": [
    "dot_data = tree.export_graphviz(clf.estimators_[1], out_file=None,  \n",
    "                                feature_names=frame.feature_names, \n",
    "                                class_names=['stay', 'churn'],  \n",
    "                                filled=True, rounded=True,  \n",
    "                                special_characters=True, max_depth=4)  \n",
    "graph = pydotplus.graph_from_dot_data(dot_data)  \n",
    "Image(graph.create_png())"
   ]
  },
  {
   "cell_type": "code",
   "execution_count": 323,
   "id": "cb7164b5-2689-493d-8769-0477c7cd1d01",
   "metadata": {},
   "outputs": [
    {
     "name": "stdout",
     "output_type": "stream",
     "text": [
      "Accuracy 0.9267051238547676\n",
      "F1-score [0.99350046 0.90238612 0.92239072 0.93281402 0.87643312 0.91476091]\n",
      "                    precision    recall  f1-score   support\n",
      "\n",
      "            LAYING       0.99      1.00      0.99       537\n",
      "           SITTING       0.97      0.85      0.90       491\n",
      "          STANDING       0.88      0.97      0.92       532\n",
      "           WALKING       0.90      0.97      0.93       496\n",
      "WALKING_DOWNSTAIRS       0.94      0.82      0.88       420\n",
      "  WALKING_UPSTAIRS       0.90      0.93      0.91       471\n",
      "\n",
      "          accuracy                           0.93      2947\n",
      "         macro avg       0.93      0.92      0.92      2947\n",
      "      weighted avg       0.93      0.93      0.93      2947\n",
      "\n"
     ]
    }
   ],
   "source": [
    "clf = RandomForestClassifier(n_estimators=100, criterion='gini', max_depth=None, min_samples_split=2, \n",
    "                             min_samples_leaf=1, min_weight_fraction_leaf=0.0, max_features=4, random_state=0)\n",
    "clf.fit(X_train, y_train)\n",
    "\n",
    "y_pred = clf.predict(X_test)\n",
    "\n",
    "print('Accuracy %s' % accuracy_score(y_test, y_pred))\n",
    "print('F1-score %s' % f1_score(y_test, y_pred, average=None))\n",
    "print(classification_report(y_test, y_pred))"
   ]
  },
  {
   "cell_type": "code",
   "execution_count": 324,
   "id": "eba21452-54d4-4933-9077-16cb522e4325",
   "metadata": {},
   "outputs": [
    {
     "name": "stdout",
     "output_type": "stream",
     "text": [
      "Accuracy 0.9375636240244316\n",
      "F1-score [1.         0.92978723 0.9403255  0.93463415 0.89226869 0.9125    ]\n",
      "                    precision    recall  f1-score   support\n",
      "\n",
      "            LAYING       1.00      1.00      1.00       537\n",
      "           SITTING       0.97      0.89      0.93       491\n",
      "          STANDING       0.91      0.98      0.94       532\n",
      "           WALKING       0.91      0.97      0.93       496\n",
      "WALKING_DOWNSTAIRS       0.95      0.84      0.89       420\n",
      "  WALKING_UPSTAIRS       0.90      0.93      0.91       471\n",
      "\n",
      "          accuracy                           0.94      2947\n",
      "         macro avg       0.94      0.93      0.93      2947\n",
      "      weighted avg       0.94      0.94      0.94      2947\n",
      "\n"
     ]
    }
   ],
   "source": [
    "clf = RandomForestClassifier(n_estimators=100, criterion='gini', max_depth=None, min_samples_split=2, \n",
    "                             min_samples_leaf=1, min_weight_fraction_leaf=0.0, max_features='log2', random_state=0)\n",
    "clf.fit(X_train, y_train)\n",
    "\n",
    "y_pred = clf.predict(X_test)\n",
    "\n",
    "print('Accuracy %s' % accuracy_score(y_test, y_pred))\n",
    "print('F1-score %s' % f1_score(y_test, y_pred, average=None))\n",
    "print(classification_report(y_test, y_pred))"
   ]
  },
  {
   "cell_type": "code",
   "execution_count": 325,
   "id": "63504e9a-9955-443b-ac93-4049fa9925ae",
   "metadata": {},
   "outputs": [
    {
     "name": "stdout",
     "output_type": "stream",
     "text": [
      "Accuracy 0.845945028842891\n",
      "F1-score [0.99721448 0.69484808 0.82178988 0.85587189 0.78746594 0.86150491]\n",
      "                    precision    recall  f1-score   support\n",
      "\n",
      "            LAYING       0.99      1.00      1.00       537\n",
      "           SITTING       0.99      0.54      0.69       491\n",
      "          STANDING       0.70      0.99      0.82       532\n",
      "           WALKING       0.77      0.97      0.86       496\n",
      "WALKING_DOWNSTAIRS       0.92      0.69      0.79       420\n",
      "  WALKING_UPSTAIRS       0.89      0.84      0.86       471\n",
      "\n",
      "          accuracy                           0.85      2947\n",
      "         macro avg       0.88      0.84      0.84      2947\n",
      "      weighted avg       0.87      0.85      0.84      2947\n",
      "\n"
     ]
    }
   ],
   "source": [
    "clf = RandomForestClassifier(n_estimators=100, criterion='gini', max_depth=4, min_samples_split=2, \n",
    "                             min_samples_leaf=1, min_weight_fraction_leaf=0.0, max_features='log2', random_state=0)\n",
    "clf.fit(X_train, y_train)\n",
    "\n",
    "y_pred = clf.predict(X_test)\n",
    "\n",
    "print('Accuracy %s' % accuracy_score(y_test, y_pred))\n",
    "print('F1-score %s' % f1_score(y_test, y_pred, average=None))\n",
    "print(classification_report(y_test, y_pred))"
   ]
  },
  {
   "cell_type": "markdown",
   "id": "f1f50591-1ef2-4262-9aa1-ea41695ca3c6",
   "metadata": {},
   "source": [
    "### Tuning the hyper-parameters"
   ]
  },
  {
   "cell_type": "code",
   "execution_count": 326,
   "id": "5d1741d3-3db6-4e34-8fd4-ab456992ea6a",
   "metadata": {},
   "outputs": [],
   "source": [
    "from sklearn.model_selection import GridSearchCV\n",
    "from sklearn.model_selection import RandomizedSearchCV"
   ]
  },
  {
   "cell_type": "code",
   "execution_count": 327,
   "id": "54aa6786-2692-40ed-a460-7f7772717f84",
   "metadata": {},
   "outputs": [
    {
     "name": "stdout",
     "output_type": "stream",
     "text": [
      "Accuracy 0.846284356973193\n",
      "F1-score [0.99721448 0.69484808 0.82178988 0.85663402 0.78746594 0.8627451 ]\n",
      "                    precision    recall  f1-score   support\n",
      "\n",
      "            LAYING       0.99      1.00      1.00       537\n",
      "           SITTING       0.99      0.54      0.69       491\n",
      "          STANDING       0.70      0.99      0.82       532\n",
      "           WALKING       0.77      0.97      0.86       496\n",
      "WALKING_DOWNSTAIRS       0.92      0.69      0.79       420\n",
      "  WALKING_UPSTAIRS       0.89      0.84      0.86       471\n",
      "\n",
      "          accuracy                           0.85      2947\n",
      "         macro avg       0.88      0.84      0.84      2947\n",
      "      weighted avg       0.87      0.85      0.84      2947\n",
      "\n"
     ]
    }
   ],
   "source": [
    "param_list = {'min_samples_split': [2, 5, 10, 20],\n",
    "              'min_samples_leaf': [1, 5, 10, 20],\n",
    "             }\n",
    "\n",
    "grid_search = GridSearchCV(clf, param_grid=param_list, cv=5)\n",
    "grid_search.fit(X_train, y_train)\n",
    "clf = grid_search.best_estimator_\n",
    "\n",
    "y_pred = clf.predict(X_test)\n",
    "\n",
    "print('Accuracy %s' % accuracy_score(y_test, y_pred))\n",
    "print('F1-score %s' % f1_score(y_test, y_pred, average=None))\n",
    "print(classification_report(y_test, y_pred))"
   ]
  },
  {
   "cell_type": "code",
   "execution_count": 328,
   "id": "09c12526-529d-4a2a-a376-e1d23755aa32",
   "metadata": {},
   "outputs": [
    {
     "name": "stdout",
     "output_type": "stream",
     "text": [
      "Accuracy 0.9222938581608415\n",
      "F1-score [0.99814126 0.8992416  0.91882248 0.92087703 0.87628866 0.90200211]\n",
      "                    precision    recall  f1-score   support\n",
      "\n",
      "            LAYING       1.00      1.00      1.00       537\n",
      "           SITTING       0.96      0.85      0.90       491\n",
      "          STANDING       0.87      0.97      0.92       532\n",
      "           WALKING       0.87      0.97      0.92       496\n",
      "WALKING_DOWNSTAIRS       0.96      0.81      0.88       420\n",
      "  WALKING_UPSTAIRS       0.90      0.91      0.90       471\n",
      "\n",
      "          accuracy                           0.92      2947\n",
      "         macro avg       0.93      0.92      0.92      2947\n",
      "      weighted avg       0.93      0.92      0.92      2947\n",
      "\n"
     ]
    }
   ],
   "source": [
    "param_list = {'max_depth': [None] + list(np.arange(2, 20)),\n",
    "              'min_samples_split': [2, 5, 10, 20, 30, 50, 100],\n",
    "              'min_samples_leaf': [1, 5, 10, 20, 30, 50, 100],\n",
    "             }\n",
    "\n",
    "random_search = RandomizedSearchCV(clf, param_distributions=param_list, n_iter=20, cv=5)\n",
    "random_search.fit(X_train, y_train)\n",
    "clf = random_search.best_estimator_\n",
    "\n",
    "\n",
    "y_pred = clf.predict(X_test)\n",
    "\n",
    "print('Accuracy %s' % accuracy_score(y_test, y_pred))\n",
    "print('F1-score %s' % f1_score(y_test, y_pred, average=None))\n",
    "print(classification_report(y_test, y_pred))"
   ]
  },
  {
   "cell_type": "code",
   "execution_count": 329,
   "id": "dc8ebedd-ab1e-42e7-b541-6363136d89cc",
   "metadata": {},
   "outputs": [
    {
     "data": {
      "text/plain": [
       "{'min_samples_split': 50, 'min_samples_leaf': 20, 'max_depth': 16}"
      ]
     },
     "execution_count": 329,
     "metadata": {},
     "output_type": "execute_result"
    }
   ],
   "source": [
    "random_search.cv_results_['params'][random_search.cv_results_['rank_test_score'][0]]"
   ]
  },
  {
   "cell_type": "markdown",
   "id": "a2395b29-659b-4945-a068-371797eeb2fa",
   "metadata": {},
   "source": [
    "# Bagging"
   ]
  },
  {
   "cell_type": "code",
   "execution_count": null,
   "id": "5f21e784-e8e5-48a8-93e1-4a350b844a50",
   "metadata": {},
   "outputs": [],
   "source": [
    "from sklearn.svm import SVC\n",
    "from sklearn.ensemble import BaggingClassifier"
   ]
  },
  {
   "cell_type": "code",
   "execution_count": null,
   "id": "003bcd06-57ad-4027-ba51-45b913c0ac8a",
   "metadata": {},
   "outputs": [],
   "source": [
    "clf = BaggingClassifier(base_estimator=None, n_estimators=100, random_state=0)\n",
    "clf.fit(X_train, y_train)\n",
    "\n",
    "y_pred = clf.predict(X_test)\n",
    "\n",
    "print('Accuracy %s' % accuracy_score(y_test, y_pred))\n",
    "print('F1-score %s' % f1_score(y_test, y_pred, average=None))\n",
    "print(classification_report(y_test, y_pred))"
   ]
  },
  {
   "cell_type": "code",
   "execution_count": null,
   "id": "faf7fbb8-e405-443b-8fd7-7092f4d5727d",
   "metadata": {},
   "outputs": [],
   "source": [
    "clf = BaggingClassifier(base_estimator=SVC(C=1000), n_estimators=10, random_state=0)\n",
    "\n",
    "clf.fit(X_train, y_train)\n",
    "\n",
    "y_pred = clf.predict(X_test)\n",
    "\n",
    "print('Accuracy %s' % accuracy_score(y_test, y_pred))\n",
    "print('F1-score %s' % f1_score(y_test, y_pred, average=None))\n",
    "print(classification_report(y_test, y_pred))"
   ]
  },
  {
   "cell_type": "code",
   "execution_count": null,
   "id": "c0fa69e2-0435-443b-8aaf-68a1ae14a68a",
   "metadata": {},
   "outputs": [],
   "source": [
    "clf = BaggingClassifier(base_estimator=RandomForestClassifier(n_estimators=100), n_estimators=100, random_state=0)\n",
    "clf.fit(X_train, y_train)\n",
    "\n",
    "y_pred = clf.predict(X_test)\n",
    "\n",
    "print('Accuracy %s' % accuracy_score(y_test, y_pred))\n",
    "print('F1-score %s' % f1_score(y_test, y_pred, average=None))\n",
    "print(classification_report(y_test, y_pred))"
   ]
  },
  {
   "cell_type": "markdown",
   "id": "2ea67870-ccd2-4169-a85f-44da432f3a00",
   "metadata": {},
   "source": [
    "# Boosting"
   ]
  },
  {
   "cell_type": "code",
   "execution_count": null,
   "id": "0c729777-0635-461e-bafe-0dc961bb62db",
   "metadata": {},
   "outputs": [],
   "source": [
    "from sklearn.ensemble import AdaBoostClassifier"
   ]
  },
  {
   "cell_type": "code",
   "execution_count": null,
   "id": "acdc6057-c227-43dd-aa3e-53327cb128e3",
   "metadata": {},
   "outputs": [],
   "source": [
    "clf = AdaBoostClassifier(base_estimator=None, n_estimators=100, random_state=0)\n",
    "clf.fit(X_train, y_train)\n",
    "\n",
    "y_pred = clf.predict(X_test)\n",
    "\n",
    "print('Accuracy %s' % accuracy_score(y_test, y_pred))\n",
    "print('F1-score %s' % f1_score(y_test, y_pred, average=None))\n",
    "print(classification_report(y_test, y_pred))"
   ]
  },
  {
   "cell_type": "code",
   "execution_count": null,
   "id": "9306f9ab-adc0-4ff2-b77f-17d7a91b4e73",
   "metadata": {},
   "outputs": [],
   "source": [
    "clf = AdaBoostClassifier(base_estimator=RandomForestClassifier(n_estimators=100), n_estimators=100, random_state=0)\n",
    "clf.fit(X_train, y_train)\n",
    "\n",
    "y_pred = clf.predict(X_test)\n",
    "\n",
    "print('Accuracy %s' % accuracy_score(y_test, y_pred))\n",
    "print('F1-score %s' % f1_score(y_test, y_pred, average=None))\n",
    "print(classification_report(y_test, y_pred))"
   ]
  },
  {
   "cell_type": "markdown",
   "id": "463cf0e6-40f3-4a32-b00b-8dc56442dbf4",
   "metadata": {},
   "source": [
    "# Gradient Boosting"
   ]
  },
  {
   "cell_type": "code",
   "execution_count": null,
   "id": "7ed214cd-73e2-4448-ad3e-92d713284ee0",
   "metadata": {},
   "outputs": [],
   "source": [
    "from sklearn.ensemble import GradientBoostingClassifier"
   ]
  },
  {
   "cell_type": "code",
   "execution_count": null,
   "id": "16d5c723-c85a-4d9e-9199-b664f197a5bf",
   "metadata": {},
   "outputs": [],
   "source": [
    "clf = GradientBoostingClassifier(n_estimators=100, learning_rate=1.0, max_depth=3, random_state=0)\n",
    "clf.fit(X_train, y_train)\n",
    "\n",
    "y_pred = clf.predict(X_test)\n",
    "\n",
    "print('Accuracy %s' % accuracy_score(y_test, y_pred))\n",
    "print('F1-score %s' % f1_score(y_test, y_pred, average=None))\n",
    "print(classification_report(y_test, y_pred))"
   ]
  },
  {
   "cell_type": "code",
   "execution_count": null,
   "id": "9a624d3a-04a5-43ce-9da3-d4e87838027b",
   "metadata": {},
   "outputs": [],
   "source": [
    "from sklearn.ensemble import HistGradientBoostingClassifier"
   ]
  },
  {
   "cell_type": "code",
   "execution_count": null,
   "id": "a5af6022-8452-4232-8b9c-9538c22bba57",
   "metadata": {},
   "outputs": [],
   "source": [
    "clf = HistGradientBoostingClassifier(learning_rate=1.0, max_depth=3, random_state=0)\n",
    "clf.fit(X_train, y_train)\n",
    "\n",
    "y_pred = clf.predict(X_test)\n",
    "\n",
    "print('Accuracy %s' % accuracy_score(y_test, y_pred))\n",
    "print('F1-score %s' % f1_score(y_test, y_pred, average=None))\n",
    "print(classification_report(y_test, y_pred))"
   ]
  },
  {
   "cell_type": "markdown",
   "id": "f6f1832f-c53b-4ac9-a181-da5cf14523f5",
   "metadata": {},
   "source": [
    "# XGBoost"
   ]
  },
  {
   "cell_type": "code",
   "execution_count": null,
   "id": "5d64a676-9724-4f1f-9a61-4f3e297adf7c",
   "metadata": {},
   "outputs": [],
   "source": [
    "!pip install xgboost"
   ]
  },
  {
   "cell_type": "code",
   "execution_count": null,
   "id": "28690164-77a3-45db-88a7-16a658d939a7",
   "metadata": {},
   "outputs": [],
   "source": [
    "from xgboost import XGBClassifier"
   ]
  },
  {
   "cell_type": "code",
   "execution_count": null,
   "id": "a5bae42f-cb5a-4c57-a261-3ade58d3854c",
   "metadata": {},
   "outputs": [],
   "source": [
    "X_train"
   ]
  },
  {
   "cell_type": "code",
   "execution_count": null,
   "id": "ca6d407d-0e64-4f67-9ed9-1832db8bab40",
   "metadata": {},
   "outputs": [],
   "source": [
    "clf = XGBClassifier(objective='binary:logistic', \n",
    "                    max_depth = 6,\n",
    "                    learning_rate = 1.0,\n",
    "                    gamma = 0.0,\n",
    "                    tree_method='exact', # 'approx'\n",
    "                    use_label_encoder=False,\n",
    "                    random_state=42\n",
    "                   )\n",
    "clf.fit(X_train, new_y_train)\n",
    "\n",
    "y_pred = clf.predict(X_test)\n",
    "\n",
    "print('Accuracy %s' % accuracy_score(new_y_test, y_pred))\n",
    "print('F1-score %s' % f1_score(new_y_test, y_pred, average=None))\n",
    "print(classification_report(new_y_test, y_pred))"
   ]
  },
  {
   "cell_type": "markdown",
   "id": "4c42ae26-6ce3-41d4-9fe4-83c93cc5547b",
   "metadata": {},
   "source": [
    "# LightGBM"
   ]
  },
  {
   "cell_type": "code",
   "execution_count": 224,
   "id": "243cd53c-8282-41d0-9df3-44e5d8321826",
   "metadata": {},
   "outputs": [
    {
     "name": "stdout",
     "output_type": "stream",
     "text": [
      "Requirement already satisfied: lightgbm in c:\\users\\admin\\anaconda3\\lib\\site-packages (3.3.2)\n",
      "Requirement already satisfied: numpy in c:\\users\\admin\\anaconda3\\lib\\site-packages (from lightgbm) (1.20.1)\n",
      "Requirement already satisfied: scikit-learn!=0.22.0 in c:\\users\\admin\\anaconda3\\lib\\site-packages (from lightgbm) (0.24.1)\n",
      "Requirement already satisfied: wheel in c:\\users\\admin\\anaconda3\\lib\\site-packages (from lightgbm) (0.37.1)\n",
      "Requirement already satisfied: scipy in c:\\users\\admin\\anaconda3\\lib\\site-packages (from lightgbm) (1.6.2)\n",
      "Requirement already satisfied: joblib>=0.11 in c:\\users\\admin\\anaconda3\\lib\\site-packages (from scikit-learn!=0.22.0->lightgbm) (1.0.1)\n",
      "Requirement already satisfied: threadpoolctl>=2.0.0 in c:\\users\\admin\\anaconda3\\lib\\site-packages (from scikit-learn!=0.22.0->lightgbm) (2.1.0)\n"
     ]
    }
   ],
   "source": [
    "!pip install lightgbm"
   ]
  },
  {
   "cell_type": "code",
   "execution_count": 226,
   "id": "b64f9f65-56aa-4204-89d2-1da31044a609",
   "metadata": {},
   "outputs": [
    {
     "ename": "FileNotFoundError",
     "evalue": "Could not find module 'C:\\Users\\Admin\\anaconda3\\lib\\site-packages\\lightgbm\\lib_lightgbm.dll' (or one of its dependencies). Try using the full path with constructor syntax.",
     "output_type": "error",
     "traceback": [
      "\u001b[1;31m---------------------------------------------------------------------------\u001b[0m",
      "\u001b[1;31mFileNotFoundError\u001b[0m                         Traceback (most recent call last)",
      "\u001b[1;32m<ipython-input-226-db68a245795b>\u001b[0m in \u001b[0;36m<module>\u001b[1;34m\u001b[0m\n\u001b[1;32m----> 1\u001b[1;33m \u001b[1;32mfrom\u001b[0m \u001b[0mlightgbm\u001b[0m \u001b[1;32mimport\u001b[0m \u001b[0mLGBMClassifier\u001b[0m\u001b[1;33m\u001b[0m\u001b[1;33m\u001b[0m\u001b[0m\n\u001b[0m",
      "\u001b[1;32m~\\anaconda3\\lib\\site-packages\\lightgbm\\__init__.py\u001b[0m in \u001b[0;36m<module>\u001b[1;34m\u001b[0m\n\u001b[0;32m      6\u001b[0m \u001b[1;32mfrom\u001b[0m \u001b[0mpathlib\u001b[0m \u001b[1;32mimport\u001b[0m \u001b[0mPath\u001b[0m\u001b[1;33m\u001b[0m\u001b[1;33m\u001b[0m\u001b[0m\n\u001b[0;32m      7\u001b[0m \u001b[1;33m\u001b[0m\u001b[0m\n\u001b[1;32m----> 8\u001b[1;33m \u001b[1;32mfrom\u001b[0m \u001b[1;33m.\u001b[0m\u001b[0mbasic\u001b[0m \u001b[1;32mimport\u001b[0m \u001b[0mBooster\u001b[0m\u001b[1;33m,\u001b[0m \u001b[0mDataset\u001b[0m\u001b[1;33m,\u001b[0m \u001b[0mSequence\u001b[0m\u001b[1;33m,\u001b[0m \u001b[0mregister_logger\u001b[0m\u001b[1;33m\u001b[0m\u001b[1;33m\u001b[0m\u001b[0m\n\u001b[0m\u001b[0;32m      9\u001b[0m \u001b[1;32mfrom\u001b[0m \u001b[1;33m.\u001b[0m\u001b[0mcallback\u001b[0m \u001b[1;32mimport\u001b[0m \u001b[0mearly_stopping\u001b[0m\u001b[1;33m,\u001b[0m \u001b[0mlog_evaluation\u001b[0m\u001b[1;33m,\u001b[0m \u001b[0mprint_evaluation\u001b[0m\u001b[1;33m,\u001b[0m \u001b[0mrecord_evaluation\u001b[0m\u001b[1;33m,\u001b[0m \u001b[0mreset_parameter\u001b[0m\u001b[1;33m\u001b[0m\u001b[1;33m\u001b[0m\u001b[0m\n\u001b[0;32m     10\u001b[0m \u001b[1;32mfrom\u001b[0m \u001b[1;33m.\u001b[0m\u001b[0mengine\u001b[0m \u001b[1;32mimport\u001b[0m \u001b[0mCVBooster\u001b[0m\u001b[1;33m,\u001b[0m \u001b[0mcv\u001b[0m\u001b[1;33m,\u001b[0m \u001b[0mtrain\u001b[0m\u001b[1;33m\u001b[0m\u001b[1;33m\u001b[0m\u001b[0m\n",
      "\u001b[1;32m~\\anaconda3\\lib\\site-packages\\lightgbm\\basic.py\u001b[0m in \u001b[0;36m<module>\u001b[1;34m\u001b[0m\n\u001b[0;32m    108\u001b[0m \u001b[1;33m\u001b[0m\u001b[0m\n\u001b[0;32m    109\u001b[0m \u001b[1;33m\u001b[0m\u001b[0m\n\u001b[1;32m--> 110\u001b[1;33m \u001b[0m_LIB\u001b[0m \u001b[1;33m=\u001b[0m \u001b[0m_load_lib\u001b[0m\u001b[1;33m(\u001b[0m\u001b[1;33m)\u001b[0m\u001b[1;33m\u001b[0m\u001b[1;33m\u001b[0m\u001b[0m\n\u001b[0m\u001b[0;32m    111\u001b[0m \u001b[1;33m\u001b[0m\u001b[0m\n\u001b[0;32m    112\u001b[0m \u001b[1;33m\u001b[0m\u001b[0m\n",
      "\u001b[1;32m~\\anaconda3\\lib\\site-packages\\lightgbm\\basic.py\u001b[0m in \u001b[0;36m_load_lib\u001b[1;34m()\u001b[0m\n\u001b[0;32m     99\u001b[0m     \u001b[1;32mif\u001b[0m \u001b[0mlen\u001b[0m\u001b[1;33m(\u001b[0m\u001b[0mlib_path\u001b[0m\u001b[1;33m)\u001b[0m \u001b[1;33m==\u001b[0m \u001b[1;36m0\u001b[0m\u001b[1;33m:\u001b[0m\u001b[1;33m\u001b[0m\u001b[1;33m\u001b[0m\u001b[0m\n\u001b[0;32m    100\u001b[0m         \u001b[1;32mreturn\u001b[0m \u001b[1;32mNone\u001b[0m\u001b[1;33m\u001b[0m\u001b[1;33m\u001b[0m\u001b[0m\n\u001b[1;32m--> 101\u001b[1;33m     \u001b[0mlib\u001b[0m \u001b[1;33m=\u001b[0m \u001b[0mctypes\u001b[0m\u001b[1;33m.\u001b[0m\u001b[0mcdll\u001b[0m\u001b[1;33m.\u001b[0m\u001b[0mLoadLibrary\u001b[0m\u001b[1;33m(\u001b[0m\u001b[0mlib_path\u001b[0m\u001b[1;33m[\u001b[0m\u001b[1;36m0\u001b[0m\u001b[1;33m]\u001b[0m\u001b[1;33m)\u001b[0m\u001b[1;33m\u001b[0m\u001b[1;33m\u001b[0m\u001b[0m\n\u001b[0m\u001b[0;32m    102\u001b[0m     \u001b[0mlib\u001b[0m\u001b[1;33m.\u001b[0m\u001b[0mLGBM_GetLastError\u001b[0m\u001b[1;33m.\u001b[0m\u001b[0mrestype\u001b[0m \u001b[1;33m=\u001b[0m \u001b[0mctypes\u001b[0m\u001b[1;33m.\u001b[0m\u001b[0mc_char_p\u001b[0m\u001b[1;33m\u001b[0m\u001b[1;33m\u001b[0m\u001b[0m\n\u001b[0;32m    103\u001b[0m     \u001b[0mcallback\u001b[0m \u001b[1;33m=\u001b[0m \u001b[0mctypes\u001b[0m\u001b[1;33m.\u001b[0m\u001b[0mCFUNCTYPE\u001b[0m\u001b[1;33m(\u001b[0m\u001b[1;32mNone\u001b[0m\u001b[1;33m,\u001b[0m \u001b[0mctypes\u001b[0m\u001b[1;33m.\u001b[0m\u001b[0mc_char_p\u001b[0m\u001b[1;33m)\u001b[0m\u001b[1;33m\u001b[0m\u001b[1;33m\u001b[0m\u001b[0m\n",
      "\u001b[1;32m~\\anaconda3\\lib\\ctypes\\__init__.py\u001b[0m in \u001b[0;36mLoadLibrary\u001b[1;34m(self, name)\u001b[0m\n\u001b[0;32m    457\u001b[0m \u001b[1;33m\u001b[0m\u001b[0m\n\u001b[0;32m    458\u001b[0m     \u001b[1;32mdef\u001b[0m \u001b[0mLoadLibrary\u001b[0m\u001b[1;33m(\u001b[0m\u001b[0mself\u001b[0m\u001b[1;33m,\u001b[0m \u001b[0mname\u001b[0m\u001b[1;33m)\u001b[0m\u001b[1;33m:\u001b[0m\u001b[1;33m\u001b[0m\u001b[1;33m\u001b[0m\u001b[0m\n\u001b[1;32m--> 459\u001b[1;33m         \u001b[1;32mreturn\u001b[0m \u001b[0mself\u001b[0m\u001b[1;33m.\u001b[0m\u001b[0m_dlltype\u001b[0m\u001b[1;33m(\u001b[0m\u001b[0mname\u001b[0m\u001b[1;33m)\u001b[0m\u001b[1;33m\u001b[0m\u001b[1;33m\u001b[0m\u001b[0m\n\u001b[0m\u001b[0;32m    460\u001b[0m \u001b[1;33m\u001b[0m\u001b[0m\n\u001b[0;32m    461\u001b[0m \u001b[0mcdll\u001b[0m \u001b[1;33m=\u001b[0m \u001b[0mLibraryLoader\u001b[0m\u001b[1;33m(\u001b[0m\u001b[0mCDLL\u001b[0m\u001b[1;33m)\u001b[0m\u001b[1;33m\u001b[0m\u001b[1;33m\u001b[0m\u001b[0m\n",
      "\u001b[1;32m~\\anaconda3\\lib\\ctypes\\__init__.py\u001b[0m in \u001b[0;36m__init__\u001b[1;34m(self, name, mode, handle, use_errno, use_last_error, winmode)\u001b[0m\n\u001b[0;32m    379\u001b[0m \u001b[1;33m\u001b[0m\u001b[0m\n\u001b[0;32m    380\u001b[0m         \u001b[1;32mif\u001b[0m \u001b[0mhandle\u001b[0m \u001b[1;32mis\u001b[0m \u001b[1;32mNone\u001b[0m\u001b[1;33m:\u001b[0m\u001b[1;33m\u001b[0m\u001b[1;33m\u001b[0m\u001b[0m\n\u001b[1;32m--> 381\u001b[1;33m             \u001b[0mself\u001b[0m\u001b[1;33m.\u001b[0m\u001b[0m_handle\u001b[0m \u001b[1;33m=\u001b[0m \u001b[0m_dlopen\u001b[0m\u001b[1;33m(\u001b[0m\u001b[0mself\u001b[0m\u001b[1;33m.\u001b[0m\u001b[0m_name\u001b[0m\u001b[1;33m,\u001b[0m \u001b[0mmode\u001b[0m\u001b[1;33m)\u001b[0m\u001b[1;33m\u001b[0m\u001b[1;33m\u001b[0m\u001b[0m\n\u001b[0m\u001b[0;32m    382\u001b[0m         \u001b[1;32melse\u001b[0m\u001b[1;33m:\u001b[0m\u001b[1;33m\u001b[0m\u001b[1;33m\u001b[0m\u001b[0m\n\u001b[0;32m    383\u001b[0m             \u001b[0mself\u001b[0m\u001b[1;33m.\u001b[0m\u001b[0m_handle\u001b[0m \u001b[1;33m=\u001b[0m \u001b[0mhandle\u001b[0m\u001b[1;33m\u001b[0m\u001b[1;33m\u001b[0m\u001b[0m\n",
      "\u001b[1;31mFileNotFoundError\u001b[0m: Could not find module 'C:\\Users\\Admin\\anaconda3\\lib\\site-packages\\lightgbm\\lib_lightgbm.dll' (or one of its dependencies). Try using the full path with constructor syntax."
     ]
    }
   ],
   "source": [
    "from lightgbm import LGBMClassifier"
   ]
  },
  {
   "cell_type": "code",
   "execution_count": null,
   "id": "5be36974-c5bb-4a62-85ce-354f2f5b9ae6",
   "metadata": {},
   "outputs": [],
   "source": [
    "clf = LGBMClassifier(boosting_type='gbdt',  #'goss', #'dart'\n",
    "                     max_depth=-1, # no limit\n",
    "                     num_leaves=31,\n",
    "                     n_estimators=100,\n",
    "                     subsample_for_bin=200000,\n",
    "                     objective='binary',\n",
    "                     reg_alpha=0.0, #L1 regularization term on weights\n",
    "                     reg_lambda=0.0, #L2 regularization term on weights\n",
    "                     random_state=42\n",
    "                   )\n",
    "clf.fit(X_train, y_train)\n",
    "\n",
    "y_pred = clf.predict(X_test)\n",
    "\n",
    "print('Accuracy %s' % accuracy_score(y_test, y_pred))\n",
    "print('F1-score %s' % f1_score(y_test, y_pred, average=None))\n",
    "print(classification_report(y_test, y_pred))"
   ]
  },
  {
   "cell_type": "code",
   "execution_count": null,
   "id": "028348f4-8776-462a-b247-6237a31a6db5",
   "metadata": {},
   "outputs": [],
   "source": []
  }
 ],
 "metadata": {
  "kernelspec": {
   "display_name": "Python 3",
   "language": "python",
   "name": "python3"
  },
  "language_info": {
   "codemirror_mode": {
    "name": "ipython",
    "version": 3
   },
   "file_extension": ".py",
   "mimetype": "text/x-python",
   "name": "python",
   "nbconvert_exporter": "python",
   "pygments_lexer": "ipython3",
   "version": "3.8.8"
  }
 },
 "nbformat": 4,
 "nbformat_minor": 5
}
